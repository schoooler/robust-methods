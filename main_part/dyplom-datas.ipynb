{
 "cells": [
  {
   "cell_type": "code",
   "execution_count": 1,
   "metadata": {
    "scrolled": false
   },
   "outputs": [],
   "source": [
    "import numpy as np\n",
    "import statsmodels.api as sm\n",
    "import statsmodels.formula.api as smf\n",
    "import scipy.stats as st\n",
    "import matplotlib.pyplot as plt\n",
    "from sklearn.linear_model import LinearRegression,RANSACRegressor,TheilSenRegressor\n",
    "from statsmodels.robust.robust_linear_model import RLM\n",
    "import statsmodels\n",
    "import pandas as pd\n",
    "from tqdm import tqdm\n",
    "import random\n",
    "from scipy import optimize\n",
    "from sklearn.covariance import MinCovDet as MCD\n",
    "import time\n",
    "from sklearn.preprocessing import StandardScaler"
   ]
  },
  {
   "cell_type": "code",
   "execution_count": 2,
   "metadata": {},
   "outputs": [],
   "source": [
    "def Add_Column(df, n):\n",
    "    return np.column_stack([np.ones([df.shape[0], 1], dtype=np.int32), df])"
   ]
  },
  {
   "cell_type": "code",
   "execution_count": 3,
   "metadata": {},
   "outputs": [],
   "source": [
    "# #МНК\n",
    "# lr = LinearRegression(fit_intercept=False)\n",
    "# lr.fit(df_norm, y_norm)\n",
    "# mnk_coefs = lr.coef_\n",
    "# #ransac\n",
    "# ransac = RANSACRegressor(lr)\n",
    "# ransac.fit(df_norm, y_norm)\n",
    "# ransac_coefs = ransac.estimator_.coef_\n",
    "# #Theil-Sen Regressor\n",
    "# ths = TheilSenRegressor(fit_intercept=False)\n",
    "# ths.fit(df_norm, y_norm)\n",
    "# ths_coefs = ths.coef_\n",
    "# # M-оценка\n",
    "# m_est = RLM(y_norm, df_norm, M = statsmodels.robust.norms.TukeyBiweight()).fit()\n",
    "# m_est_coefs = m_est.params\n",
    "# #R-оценка\n",
    "# beta = optimize.fmin_bfgs(R, [0, 0], args = (df_norm, y_norm), disp = 0)\n",
    "# beta_0 = np.median(y_norm - np.sum(beta*df_norm[:,1:], axis = 1))\n",
    "# r_est = np.concatenate((np.array([beta_0]), beta))\n",
    "# #HBRR-оценка\n",
    "# hbrr_beta = optimize.fmin_bfgs(HBR, [0, 0], args = (df_norm, y_nor, ransac_coefs), disp = 0)\n",
    "# hbrr_beta_0 = np.median(y_norm - np.sum(hbrr_beta*df_norm[:,1:], axis = 1))\n",
    "# hbrr_est = np.concatenate((np.array([hbrr_beta_0]), hbrr_beta))\n",
    "# #MMR-оценка\n",
    "# mmr_est = MM(df_norm, y_norm, ransac_coefs)"
   ]
  },
  {
   "cell_type": "code",
   "execution_count": 4,
   "metadata": {},
   "outputs": [],
   "source": [
    "def MM(df, y, blms):\n",
    "    n = df.shape[0]\n",
    "    s = y - np.sum(blms * df, axis = 1)\n",
    "    res_itog = np.abs(np.median(s) - s)\n",
    "    MADN = np.median(np.abs(res_itog)) / 0.675\n",
    "    const1 = 10\n",
    "    const2 = 4.68\n",
    "    var = s/(const1*MADN)\n",
    "    w = np.minimum(3 - 3*np.power(var,2) + np.power(var,4), 1/np.power(var,2))\n",
    "    sigma_1 = np.dot(w,np.power(s/const1,2))\n",
    "    sigma_1 = np.sqrt(sigma_1 * 2/ df.shape[0])\n",
    "    eps = 0.0001\n",
    "    while(np.abs(sigma_1/MADN - 1) > eps):\n",
    "        MADN = sigma_1\n",
    "        sigma_1 = 0\n",
    "        w = np.minimum(3 - 3*np.power(var,2) + np.power(var,4), 1/np.power(var,2))\n",
    "        sigma_1 = np.dot(w,np.power(s/const1,2))\n",
    "        sigma_1 = np.sqrt(sigma_1 * 2 / n)\n",
    "    var2 = s/(const2*MADN)\n",
    "    w = np.minimum(3 - 3*np.power(var2,2) + np.power(var2,4), 1/np.power(var2,2))\n",
    "    W = np.diag(w)\n",
    "    beta = blms\n",
    "    beta_1 = np.dot(np.dot(np.dot(np.linalg.inv(np.dot(np.dot(df.T,W), df)), df.T), W), y)\n",
    "    eps = 0.001\n",
    "    while np.linalg.norm(beta_1-beta)/np.linalg.norm(beta) > eps:\n",
    "        s = y - np.sum(beta_1 * df, axis = 1)\n",
    "        var2 = s/(const2*sigma_1)\n",
    "        w = np.minimum(3 - 3*np.power(var2,2) + np.power(var2,4), 1/np.power(var2,2))\n",
    "        W = np.diag(w)\n",
    "        beta = beta_1\n",
    "        beta_1 = np.dot(np.dot(np.dot(np.linalg.inv(np.dot(np.dot(df.T,W), df)), df.T), W), y)\n",
    "    return beta_1"
   ]
  },
  {
   "cell_type": "code",
   "execution_count": 5,
   "metadata": {},
   "outputs": [],
   "source": [
    "def R(x, df, y):\n",
    "    array = y - np.sum(x * df[:,1:], axis = 1)\n",
    "    temp = array.argsort()\n",
    "    ranks = np.empty_like(temp)\n",
    "    ranks[temp] = np.arange(len(array))\n",
    "    return np.dot(array, ranks/(df.shape[0]) - 0.5)"
   ]
  },
  {
   "cell_type": "code",
   "execution_count": 6,
   "metadata": {},
   "outputs": [],
   "source": [
    "def HBR(x, df, y, lts):\n",
    "    df = np.array(df)\n",
    "    y = np.array(y)\n",
    "    resid = y - np.sum(lts * df, axis = 1)\n",
    "    MADN = 1.483*np.median(np.abs(resid - np.median(resid)))\n",
    "    mcd = MCD()\n",
    "    mcd.fit(df[:,1].reshape(-1,1))\n",
    "    mahal =  mcd.mahalanobis(df[:,1].reshape(-1,1))\n",
    "    b, c = 4, 4 \n",
    "    resid = np.abs(resid / MADN)\n",
    "    resid_new = y - np.sum(x * df[:,1:], axis = 1)\n",
    "    resid_dif = np.abs(resid_new - resid_new.reshape(-1,1))\n",
    "    resid_dif = np.tril(resid_dif, -1)\n",
    "    mahal = b / mahal\n",
    "    mahal[mahal > 1] = 1\n",
    "    mahal = mahal / resid\n",
    "    mahal = mahal.reshape(-1, 1) * mahal\n",
    "    mahal = np.tril(mahal, -1)\n",
    "    mahal = c * mahal\n",
    "    mahal[mahal > 1] = 1\n",
    "    ans = np.sum(mahal * resid_dif)\n",
    "    return ans"
   ]
  },
  {
   "cell_type": "markdown",
   "metadata": {},
   "source": [
    "# Звезды, датасет"
   ]
  },
  {
   "cell_type": "code",
   "execution_count": 7,
   "metadata": {},
   "outputs": [],
   "source": [
    "stars = np.array(pd.read_csv('stars.csv'))\n",
    "train = Add_Column(stars[:,0], stars.shape[0])\n",
    "test = stars[:,1]\n",
    "df_norm = train\n",
    "y_norm = test"
   ]
  },
  {
   "cell_type": "code",
   "execution_count": 8,
   "metadata": {},
   "outputs": [
    {
     "name": "stderr",
     "output_type": "stream",
     "text": [
      "/Library/Frameworks/Python.framework/Versions/3.7/lib/python3.7/site-packages/sklearn/linear_model/base.py:485: RuntimeWarning: internal gelsd driver lwork query error, required iwork dimension not returned. This is likely the result of LAPACK bug 0038, fixed in LAPACK 3.2.2 (released July 21, 2010). Falling back to 'gelss' driver.\n",
      "  linalg.lstsq(X, y)\n"
     ]
    }
   ],
   "source": [
    "lr = LinearRegression(fit_intercept=False)\n",
    "lr.fit(train, test)\n",
    "mnk_coefs = lr.coef_\n",
    "\n",
    "ransac = RANSACRegressor(lr, random_state=42)\n",
    "ransac.fit(train, test)\n",
    "ransac_coefs = ransac.estimator_.coef_\n",
    "\n",
    "ths = TheilSenRegressor(fit_intercept=False, random_state = 42)\n",
    "ths.fit(train, test)\n",
    "ths_coefs = ths.coef_\n",
    "\n",
    "m_est = RLM(test, train, M = statsmodels.robust.norms.TukeyBiweight()).fit()\n",
    "m_est_coefs = m_est.params\n",
    "\n",
    "mm_est = MM(train, test, ransac_coefs)\n",
    "\n",
    "#R-оценка\n",
    "beta = optimize.fmin_bfgs(R, 0, args = (train, test), disp = 0)\n",
    "beta_0 = np.median(test - beta * train[:,1])\n",
    "r_est = np.array([beta_0, beta])\n",
    "\n",
    "#HBR-оценка\n",
    "hbr_beta = optimize.fmin_bfgs(HBR, 0, args = (train, test, ransac_coefs), disp = 0)\n",
    "hbr_est = np.array([np.median(test - hbr_beta * train[:,1]),hbr_beta])"
   ]
  },
  {
   "cell_type": "code",
   "execution_count": 9,
   "metadata": {},
   "outputs": [],
   "source": [
    "min_max = np.array([np.min(train[:,1]),np.max(train[:,1])])"
   ]
  },
  {
   "cell_type": "code",
   "execution_count": 10,
   "metadata": {},
   "outputs": [],
   "source": [
    "lr.fit(train[np.where(train[:,1] > 3.6)[0]], test[np.where(train[:,1] > 3.6)[0]])\n",
    "perfect = lr.coef_"
   ]
  },
  {
   "cell_type": "code",
   "execution_count": 11,
   "metadata": {
    "scrolled": false
   },
   "outputs": [
    {
     "data": {
      "image/png": "[encoded data removed]",
      "text/plain": [
       "<Figure size 720x576 with 1 Axes>"
      ]
     },
     "metadata": {
      "needs_background": "light"
     },
     "output_type": "display_data"
    }
   ],
   "source": [
    "plt.figure(figsize = (10,8))\n",
    "plt.plot(train[:,1],test, 'b.')\n",
    "plt.plot(min_max, ransac_coefs[0] + ransac_coefs[1]*min_max, label = 'RANSAC')\n",
    "plt.plot(min_max, ths_coefs[0] + ths_coefs[1]*min_max, label = 'Theil-Sen Regressor')\n",
    "plt.plot(min_max, m_est_coefs[0] + m_est_coefs[1]*min_max, label = 'M-оценка')\n",
    "plt.plot(min_max, mm_est[0] + mm_est[1]*min_max, label = 'ММ-оценка')\n",
    "# plt.plot(min_max, lts_est[0] + lts_est[1]*min_max, label = 'LTS-оценка')\n",
    "plt.plot(min_max, r_est[0] + r_est[1]*min_max, label = 'R')\n",
    "plt.plot(min_max, hbr_est[0] + hbr_est[1]*min_max, label = 'HBR')\n",
    "plt.plot(min_max, perfect[0] + perfect[1]*min_max, 'm:', label = 'МНК без выбросов')\n",
    "plt.title('Hertzprung Russell data for Star Cluster CYG 0B1')\n",
    "plt.legend()\n",
    "plt.xlabel('log(temp)')\n",
    "plt.ylabel('log(light)')\n",
    "plt.ylim([2,7])\n",
    "plt.show()"
   ]
  },
  {
   "cell_type": "markdown",
   "metadata": {},
   "source": [
    "# Пенсионные фонды"
   ]
  },
  {
   "cell_type": "code",
   "execution_count": 12,
   "metadata": {},
   "outputs": [],
   "source": [
    "train = np.array([10.4,15.6,16.2,17.9,37.8,46.9,52.4,52.9,71.0,73.9,76.3,77.0,131.2,151.7,206.1,314.7,470.8,1406.3])\n",
    "test = np.array([272.2,212.9,120.7,163.6,226.1,622.9,1353.2,363.6,951.7,307.2,588.4,952.5,1157.3,\n",
    "                 2105.6,3581.4,3404.7,4095.3,6802.7])\n",
    "train = Add_Column(train, train.shape[0])"
   ]
  },
  {
   "cell_type": "code",
   "execution_count": 13,
   "metadata": {},
   "outputs": [],
   "source": [
    "# lr = LinearRegression(fit_intercept=False)\n",
    "lr.fit(train, test)\n",
    "mnk_coefs = lr.coef_\n",
    "\n",
    "# ransac = RANSACRegressor(lr, random_state=42)\n",
    "ransac.fit(train, test)\n",
    "ransac_coefs = ransac.estimator_.coef_\n",
    "\n",
    "# ths = TheilSenRegressor(fit_intercept=False, random_state = 42)\n",
    "ths.fit(train, test)\n",
    "ths_coefs = ths.coef_\n",
    "\n",
    "m_est = RLM(test, train, M = statsmodels.robust.norms.TukeyBiweight()).fit()\n",
    "m_est_coefs = m_est.params\n",
    "\n",
    "mm_est = MM(train, test, ransac_coefs)\n",
    "\n",
    "#R-оценка\n",
    "beta = optimize.fmin_bfgs(R, 0, args = (train, test), disp = 0)\n",
    "beta_0 = np.median(test - beta * train[:,1])\n",
    "r_est = np.array([beta_0, beta])\n",
    "\n",
    "#HBR-оценка\n",
    "hbr_beta = optimize.fmin_bfgs(HBR, 0, args = (train, test, ransac_coefs), disp = 0)\n",
    "hbr_est = np.array([np.median(test - hbr_beta * train[:,1]),hbr_beta])"
   ]
  },
  {
   "cell_type": "code",
   "execution_count": 14,
   "metadata": {},
   "outputs": [],
   "source": [
    "lr.fit(train[np.where(train[:,1] < 1000)[0]], test[np.where(train[:,1] < 1000)[0]])\n",
    "perfect = lr.coef_"
   ]
  },
  {
   "cell_type": "code",
   "execution_count": 15,
   "metadata": {},
   "outputs": [],
   "source": [
    "min_max = np.array([np.min(train[:,1]),np.max(train[:,1])])"
   ]
  },
  {
   "cell_type": "code",
   "execution_count": 16,
   "metadata": {
    "scrolled": true
   },
   "outputs": [
    {
     "data": {
      "image/png": "[encoded data removed]",
      "text/plain": [
       "<Figure size 576x432 with 1 Axes>"
      ]
     },
     "metadata": {
      "needs_background": "light"
     },
     "output_type": "display_data"
    }
   ],
   "source": [
    "plt.figure(figsize = (8,6))\n",
    "plt.plot(train[:,1],test, 'bo')\n",
    "plt.plot(min_max, ransac_coefs[0] + ransac_coefs[1]*min_max, label = 'RANSAC')\n",
    "plt.plot(min_max, ths_coefs[0] + ths_coefs[1]*min_max, label = 'Theil-Sen Regressor')\n",
    "plt.plot(min_max, m_est_coefs[0] + m_est_coefs[1]*min_max, label = 'M-оценка')\n",
    "plt.plot(min_max, mm_est[0] + mm_est[1]*min_max, label = 'ММ-оценка')\n",
    "# plt.plot(min_max, lts_est[0] + lts_est[1]*min_max, label = 'LTS-оценка')\n",
    "plt.plot(min_max, r_est[0] + r_est[1]*min_max, label = 'R')\n",
    "plt.plot(min_max, hbr_est[0] + hbr_est[1]*min_max, label = 'HBR')\n",
    "plt.plot(min_max, perfect[0] + perfect[1]*min_max, 'm:', label = 'МНК без выбросов')\n",
    "plt.title('Pension Funds for 18 Professional Branches')\n",
    "plt.legend()\n",
    "plt.xlabel('Premium Income')\n",
    "plt.ylabel('Premium Reserves')\n",
    "plt.show()"
   ]
  },
  {
   "cell_type": "markdown",
   "metadata": {},
   "source": [
    "# Aircraft"
   ]
  },
  {
   "cell_type": "code",
   "execution_count": 72,
   "metadata": {},
   "outputs": [],
   "source": [
    "df_air = pd.read_csv('aircraft.csv').drop('Unnamed: 0', 1)\n",
    "train = df_air[['X1', 'X2', 'X3', 'X4']]\n",
    "test = df_air['Y']\n",
    "train = Add_Column(train, train.shape[0])"
   ]
  },
  {
   "cell_type": "code",
   "execution_count": 73,
   "metadata": {},
   "outputs": [],
   "source": [
    "lr = LinearRegression(fit_intercept=False)\n",
    "lr.fit(train, test)\n",
    "mnk_coefs = lr.coef_\n",
    "\n",
    "ransac = RANSACRegressor(lr, random_state=42)\n",
    "ransac.fit(train, test)\n",
    "ransac_coefs = ransac.estimator_.coef_\n",
    "\n",
    "ths = TheilSenRegressor(fit_intercept=False, random_state = 42)\n",
    "ths.fit(train, test)\n",
    "ths_coefs = ths.coef_\n",
    "\n",
    "m_est = RLM(test, train, M = statsmodels.robust.norms.TukeyBiweight()).fit()\n",
    "m_est_coefs = m_est.params\n",
    "\n",
    "mm_est = MM(train, test, ransac_coefs)\n",
    "\n",
    "#R-оценка\n",
    "beta = optimize.fmin_bfgs(R, np.zeros(train.shape[1] - 1), args = (train, test), disp = 0)\n",
    "beta_0 = np.median(test - np.sum(beta * train[:,1:], axis = 1))\n",
    "r_est = np.concatenate((np.array([beta_0]), beta))\n",
    "\n",
    "#HBR-оценка\n",
    "hbrr_beta = optimize.fmin_bfgs(HBR, np.zeros(train.shape[1] - 1), args = (train, test, ransac_coefs), disp = 0)\n",
    "hbrr_beta_0 = np.median(test - np.sum(hbrr_beta*train[:,1:], axis = 1))\n",
    "hbrr_est = np.concatenate((np.array([hbrr_beta_0]), hbrr_beta))"
   ]
  },
  {
   "cell_type": "code",
   "execution_count": 74,
   "metadata": {},
   "outputs": [],
   "source": [
    "from sklearn.model_selection import LeaveOneOut\n",
    "from sklearn.metrics import mean_squared_error, mean_absolute_error\n",
    "from astropy.stats import median_absolute_deviation\n",
    "from sklearn.preprocessing import StandardScaler"
   ]
  },
  {
   "cell_type": "code",
   "execution_count": 75,
   "metadata": {
    "scrolled": true
   },
   "outputs": [
    {
     "name": "stderr",
     "output_type": "stream",
     "text": [
      "/Library/Frameworks/Python.framework/Versions/3.7/lib/python3.7/site-packages/sklearn/preprocessing/data.py:625: DataConversionWarning: Data with input dtype int64, float64 were all converted to float64 by StandardScaler.\n",
      "  return self.partial_fit(X, y)\n",
      "/Library/Frameworks/Python.framework/Versions/3.7/lib/python3.7/site-packages/sklearn/base.py:462: DataConversionWarning: Data with input dtype int64, float64 were all converted to float64 by StandardScaler.\n",
      "  return self.fit(X, **fit_params).transform(X)\n"
     ]
    }
   ],
   "source": [
    "df_air = StandardScaler().fit_transform(df_air)"
   ]
  },
  {
   "cell_type": "code",
   "execution_count": 77,
   "metadata": {},
   "outputs": [],
   "source": [
    "train = df_air[:, :-1]\n",
    "test = df_air[:, -1]"
   ]
  },
  {
   "cell_type": "code",
   "execution_count": 41,
   "metadata": {},
   "outputs": [],
   "source": [
    "loo = LeaveOneOut()"
   ]
  },
  {
   "cell_type": "code",
   "execution_count": 42,
   "metadata": {},
   "outputs": [],
   "source": [
    "mnk_mse = []\n",
    "rs_mse = []\n",
    "ths_mse = []\n",
    "m_mse = []\n",
    "r_mse = []\n",
    "hbr_mse = []\n",
    "mm_mse = []\n",
    "\n",
    "for train_index, test_index in loo.split(train):\n",
    "    X_train, X_test = train[train_index], train[test_index]\n",
    "    y_train, y_test = test[train_index], test[test_index]\n",
    "    lr.fit(X_train, y_train)\n",
    "    mnk_coefs = lr.coef_\n",
    "    mnk_mse.append(np.sum(mnk_coefs * X_test))\n",
    "    \n",
    "    ransac.fit(train, test)\n",
    "    ransac_coefs = ransac.estimator_.coef_\n",
    "    rs_mse.append(np.sum(ransac_coefs * X_test))\n",
    "    \n",
    "    ths.fit(train, test)\n",
    "    ths_coefs = ths.coef_\n",
    "    ths_mse.append(np.sum(ths_coefs * X_test))\n",
    "    \n",
    "    m_est = RLM(test, train, M = statsmodels.robust.norms.TukeyBiweight()).fit()\n",
    "    m_est_coefs = np.array(m_est.params)\n",
    "    m_mse.append(np.sum(m_est_coefs * X_test))\n",
    "    \n",
    "    mm_est = MM(train, test, ransac_coefs)\n",
    "    mm_mse.append(np.sum(mm_est * X_test))\n",
    "    \n",
    "    beta = optimize.fmin_bfgs(R, np.zeros(train.shape[1] - 1), args = (train, test), disp = 0)\n",
    "    beta_0 = np.median(test - np.sum(beta * train[:,1:], axis = 1))\n",
    "    r_est = np.concatenate((np.array([beta_0]), beta))\n",
    "    r_mse.append(np.sum(r_est * X_test))\n",
    "    \n",
    "    hbrr_beta = optimize.fmin_bfgs(HBR, np.zeros(train.shape[1] - 1), args = (train, test, ransac_coefs), disp = 0)\n",
    "    hbrr_beta_0 = np.median(test - np.sum(hbrr_beta*train[:,1:], axis = 1))\n",
    "    hbrr_est = np.concatenate((np.array([hbrr_beta_0]), hbrr_beta))\n",
    "    hbr_mse.append(np.sum(hbrr_est * X_test))"
   ]
  },
  {
   "cell_type": "code",
   "execution_count": 43,
   "metadata": {
    "scrolled": true
   },
   "outputs": [
    {
     "name": "stdout",
     "output_type": "stream",
     "text": [
      "leave-one out estimate for MSE:\n",
      "ols: 0.25\n",
      "ransac: 0.26\n",
      "ths-est: 0.20\n",
      "m-est: 0.19\n",
      "r-est: 0.16\n",
      "hbr-est: 0.17\n",
      "mm-est: 0.17\n"
     ]
    }
   ],
   "source": [
    "print('leave-one out estimate for MSE:')\n",
    "print('ols: {:0.2f}\\nransac: {:0.2f}\\nths-est: \\\n",
    "{:0.2f}\\nm-est: {:0.2f}\\nr-est: {:0.2f}\\nhbr-est: {:0.2f}\\nmm-est: {:0.2f}'.format(\n",
    "                                                                        mean_squared_error(mnk_mse, test), \n",
    "                                                                        mean_squared_error(rs_mse, test), \n",
    "                                                                        mean_squared_error(ths_mse, test),\n",
    "                                                                        mean_squared_error(m_mse, test), \n",
    "                                                                        mean_squared_error(r_mse, test), \n",
    "                                                                        mean_squared_error(hbr_mse, test), \n",
    "                                                                        mean_squared_error(mm_mse, test)))\n",
    "\n"
   ]
  },
  {
   "cell_type": "code",
   "execution_count": 44,
   "metadata": {
    "scrolled": true
   },
   "outputs": [
    {
     "name": "stdout",
     "output_type": "stream",
     "text": [
      "leave-one out estimate for MAE:\n",
      "ols: 0.34\n",
      "ransac: 0.29\n",
      "ths-est: 0.27\n",
      "m-est: 0.26\n",
      "r-est: 0.27\n",
      "hbr-est: 0.28\n",
      "mm-est: 0.25\n"
     ]
    }
   ],
   "source": [
    "print('leave-one out estimate for MAE:')\n",
    "print('ols: {:0.2f}\\nransac: {:0.2f}\\nths-est: \\\n",
    "{:0.2f}\\nm-est: {:0.2f}\\nr-est: {:0.2f}\\nhbr-est: {:0.2f}\\nmm-est: {:0.2f}'.format(\n",
    "                                                                        mean_absolute_error(mnk_mse, test), \n",
    "                                                                        mean_absolute_error(rs_mse, test), \n",
    "                                                                        mean_absolute_error(ths_mse, test),\n",
    "                                                                        mean_absolute_error(m_mse, test), \n",
    "                                                                        mean_absolute_error(r_mse, test), \n",
    "                                                                        mean_absolute_error(hbr_mse, test), \n",
    "                                                                        mean_absolute_error(mm_mse, test)))\n",
    "\n"
   ]
  },
  {
   "cell_type": "code",
   "execution_count": 45,
   "metadata": {
    "scrolled": true
   },
   "outputs": [
    {
     "name": "stdout",
     "output_type": "stream",
     "text": [
      "leave-one out estimate for MAD:\n",
      "ols: 0.23\n",
      "ransac: 0.16\n",
      "ths-est: 0.14\n",
      "m-est: 0.16\n",
      "r-est: 0.17\n",
      "hbr-est: 0.17\n",
      "mm-est: 0.18\n"
     ]
    }
   ],
   "source": [
    "print('leave-one out estimate for MAD:')\n",
    "print('ols: {:0.2f}\\nransac: {:0.2f}\\nths-est: \\\n",
    "{:0.2f}\\nm-est: {:0.2f}\\nr-est: {:0.2f}\\nhbr-est: {:0.2f}\\nmm-est: {:0.2f}'.format(\n",
    "                                                                        median_absolute_deviation(mnk_mse - test), \n",
    "                                                                        median_absolute_deviation(rs_mse - test), \n",
    "                                                                        median_absolute_deviation(ths_mse - test),\n",
    "                                                                        median_absolute_deviation(m_mse - test), \n",
    "                                                                        median_absolute_deviation(r_mse - test), \n",
    "                                                                        median_absolute_deviation(hbr_mse - test), \n",
    "                                                                        median_absolute_deviation(mm_mse - test)))"
   ]
  },
  {
   "cell_type": "code",
   "execution_count": 62,
   "metadata": {},
   "outputs": [
    {
     "name": "stdout",
     "output_type": "stream",
     "text": [
      "МНК: [-0.24452833  0.19840887  1.48531253 -0.90081367]\n",
      "RANSAC: [-0.17848669  0.32925723  0.76906597 -0.41740245]\n",
      "THS-est: [-0.20716385  0.31305045  0.92508066 -0.49697269]\n",
      "M-EST: [-0.19581876  0.14786851  0.95869435 -0.51654319]\n",
      "MM: [-0.16996556  0.14013163  0.99920362 -0.51033047]\n",
      "R-est: [ 0.02047286  0.13359392  1.27825332 -0.55503434]\n",
      "HBR-est: [ 0.03302379  0.12229004  1.22767036 -0.52387285]\n"
     ]
    }
   ],
   "source": [
    "print('МНК: {}\\nRANSAC: {}\\nTHS-est: {}\\nM-EST: {}\\nMM: {}\\nR-est: {}\\nHBR-est: {}'.format(\n",
    "    mnk_coefs, \n",
    "    ransac_coefs,\n",
    "    ths_coefs,\n",
    "    m_est_coefs,\n",
    "    mm_est,\n",
    "    r_est,\n",
    "    hbrr_est\n",
    "    \n",
    "))"
   ]
  },
  {
   "cell_type": "markdown",
   "metadata": {},
   "source": [
    "# Alcohol"
   ]
  },
  {
   "cell_type": "code",
   "execution_count": 79,
   "metadata": {},
   "outputs": [],
   "source": [
    "df_alco = pd.read_csv('alcohol.csv').drop('Unnamed: 0', 1)"
   ]
  },
  {
   "cell_type": "code",
   "execution_count": 80,
   "metadata": {},
   "outputs": [],
   "source": [
    "df_alco = StandardScaler().fit_transform(df_alco)"
   ]
  },
  {
   "cell_type": "code",
   "execution_count": 81,
   "metadata": {},
   "outputs": [],
   "source": [
    "train = df_alco[:, :-1]\n",
    "test = df_alco[:, -1]"
   ]
  },
  {
   "cell_type": "code",
   "execution_count": 83,
   "metadata": {},
   "outputs": [],
   "source": [
    "mnk_mse = []\n",
    "rs_mse = []\n",
    "ths_mse = []\n",
    "m_mse = []\n",
    "r_mse = []\n",
    "hbr_mse = []\n",
    "mm_mse = []\n",
    "\n",
    "for train_index, test_index in loo.split(train):\n",
    "    X_train, X_test = train[train_index], train[test_index]\n",
    "    y_train, y_test = test[train_index], test[test_index]\n",
    "    lr.fit(X_train, y_train)\n",
    "    mnk_coefs = lr.coef_\n",
    "    mnk_mse.append(np.sum(mnk_coefs * X_test))\n",
    "    \n",
    "    ransac.fit(train, test)\n",
    "    ransac_coefs = ransac.estimator_.coef_\n",
    "    rs_mse.append(np.sum(ransac_coefs * X_test))\n",
    "    \n",
    "    ths.fit(train, test)\n",
    "    ths_coefs = ths.coef_\n",
    "    ths_mse.append(np.sum(ths_coefs * X_test))\n",
    "    \n",
    "    m_est = RLM(test, train, M = statsmodels.robust.norms.TukeyBiweight()).fit()\n",
    "    m_est_coefs = np.array(m_est.params)\n",
    "    m_mse.append(np.sum(m_est_coefs * X_test))\n",
    "    \n",
    "    mm_est = MM(train, test, ransac_coefs)\n",
    "    mm_mse.append(np.sum(mm_est * X_test))\n",
    "    \n",
    "    beta = optimize.fmin_bfgs(R, np.zeros(train.shape[1] - 1), args = (train, test), disp = 0)\n",
    "    beta_0 = np.median(test - np.sum(beta * train[:,1:], axis = 1))\n",
    "    r_est = np.concatenate((np.array([beta_0]), beta))\n",
    "    r_mse.append(np.sum(r_est * X_test))\n",
    "    \n",
    "    hbrr_beta = optimize.fmin_bfgs(HBR, np.zeros(train.shape[1] - 1), args = (train, test, ransac_coefs), disp = 0)\n",
    "    hbrr_beta_0 = np.median(test - np.sum(hbrr_beta*train[:,1:], axis = 1))\n",
    "    hbrr_est = np.concatenate((np.array([hbrr_beta_0]), hbrr_beta))\n",
    "    hbr_mse.append(np.sum(hbrr_est * X_test))"
   ]
  },
  {
   "cell_type": "code",
   "execution_count": 84,
   "metadata": {
    "scrolled": false
   },
   "outputs": [
    {
     "name": "stdout",
     "output_type": "stream",
     "text": [
      "leave-one out estimate for MSE:\n",
      "ols: 0.053\n",
      "ransac: 0.017\n",
      "ths-est: 0.037\n",
      "m-est: 0.044\n",
      "r-est: 0.026\n",
      "hbr-est: 0.027\n",
      "mm-est: 0.043\n"
     ]
    }
   ],
   "source": [
    "print('leave-one out estimate for MSE:')\n",
    "print('ols: {:0.3f}\\nransac: {:0.3f}\\nths-est: \\\n",
    "{:0.3f}\\nm-est: {:0.3f}\\nr-est: {:0.3f}\\nhbr-est: {:0.3f}\\nmm-est: {:0.3f}'.format(\n",
    "                                                                        mean_squared_error(mnk_mse, test), \n",
    "                                                                        mean_squared_error(rs_mse, test), \n",
    "                                                                        mean_squared_error(ths_mse, test),\n",
    "                                                                        mean_squared_error(m_mse, test), \n",
    "                                                                        mean_squared_error(r_mse, test), \n",
    "                                                                        mean_squared_error(hbr_mse, test), \n",
    "                                                                        mean_squared_error(mm_mse, test)))\n",
    "\n"
   ]
  },
  {
   "cell_type": "code",
   "execution_count": 85,
   "metadata": {
    "scrolled": true
   },
   "outputs": [
    {
     "name": "stdout",
     "output_type": "stream",
     "text": [
      "leave-one out estimate for MAE:\n",
      "ols: 0.139\n",
      "ransac: 0.104\n",
      "ths-est: 0.095\n",
      "m-est: 0.094\n",
      "r-est: 0.095\n",
      "hbr-est: 0.095\n",
      "mm-est: 0.094\n"
     ]
    }
   ],
   "source": [
    "print('leave-one out estimate for MAE:')\n",
    "print('ols: {:0.3f}\\nransac: {:0.3f}\\nths-est: \\\n",
    "{:0.3f}\\nm-est: {:0.3f}\\nr-est: {:0.3f}\\nhbr-est: {:0.3f}\\nmm-est: {:0.3f}'.format(\n",
    "                                                                        mean_absolute_error(mnk_mse, test), \n",
    "                                                                        mean_absolute_error(rs_mse, test), \n",
    "                                                                        mean_absolute_error(ths_mse, test),\n",
    "                                                                        mean_absolute_error(m_mse, test), \n",
    "                                                                        mean_absolute_error(r_mse, test), \n",
    "                                                                        mean_absolute_error(hbr_mse, test), \n",
    "                                                                        mean_absolute_error(mm_mse, test)))\n",
    "\n"
   ]
  },
  {
   "cell_type": "code",
   "execution_count": 86,
   "metadata": {
    "scrolled": true
   },
   "outputs": [
    {
     "name": "stdout",
     "output_type": "stream",
     "text": [
      "leave-one out estimate for MAD:\n",
      "ols: 0.106\n",
      "ransac: 0.096\n",
      "ths-est: 0.058\n",
      "m-est: 0.038\n",
      "r-est: 0.059\n",
      "hbr-est: 0.057\n",
      "mm-est: 0.038\n"
     ]
    }
   ],
   "source": [
    "print('leave-one out estimate for MAD:')\n",
    "print('ols: {:0.3f}\\nransac: {:0.3f}\\nths-est: \\\n",
    "{:0.3f}\\nm-est: {:0.3f}\\nr-est: {:0.3f}\\nhbr-est: {:0.3f}\\nmm-est: {:0.3f}'.format(\n",
    "                                                                        median_absolute_deviation(mnk_mse - test), \n",
    "                                                                        median_absolute_deviation(rs_mse - test), \n",
    "                                                                        median_absolute_deviation(ths_mse - test),\n",
    "                                                                        median_absolute_deviation(m_mse - test), \n",
    "                                                                        median_absolute_deviation(r_mse - test), \n",
    "                                                                        median_absolute_deviation(hbr_mse - test), \n",
    "                                                                        median_absolute_deviation(mm_mse - test)))"
   ]
  },
  {
   "cell_type": "code",
   "execution_count": 87,
   "metadata": {},
   "outputs": [
    {
     "name": "stdout",
     "output_type": "stream",
     "text": [
      "МНК: [ -0.07177214  -0.74141121  -0.68571577  44.65133949  -2.21820728\n",
      " -41.92210804]\n",
      "RANSAC: [ -0.10686949  -0.6940613   -0.68630406  43.35629812  -2.22170076\n",
      " -40.63901427]\n",
      "THS-est: [  0.46777548  -0.90099956  -0.83318756   4.60956416 -10.55913089\n",
      "   6.22969262]\n",
      "M-EST: [ -0.66848488   1.08840923  -1.03913679  10.47985703 -12.00436952\n",
      "   1.15533217]\n",
      "MM: [ -0.8371842    1.31843915  -1.02346756   4.93357826 -11.77139709\n",
      "   6.3862266 ]\n",
      "R-est: [ -0.02414134  -0.34549658  -0.89235986  24.12562571  -8.01413844\n",
      " -15.85958553]\n",
      "HBR-est: [ -0.02501875  -0.3366662   -0.89933853  23.60565266  -8.14012978\n",
      " -15.21551634]\n"
     ]
    }
   ],
   "source": [
    "print('МНК: {}\\nRANSAC: {}\\nTHS-est: {}\\nM-EST: {}\\nMM: {}\\nR-est: {}\\nHBR-est: {}'.format(\n",
    "    mnk_coefs, \n",
    "    ransac_coefs,\n",
    "    ths_coefs,\n",
    "    m_est_coefs,\n",
    "    mm_est,\n",
    "    r_est,\n",
    "    hbrr_est\n",
    "))"
   ]
  },
  {
   "cell_type": "markdown",
   "metadata": {},
   "source": [
    "# toxicity"
   ]
  },
  {
   "cell_type": "code",
   "execution_count": 100,
   "metadata": {},
   "outputs": [],
   "source": [
    "df_toxicity = pd.read_csv('toxicity.csv').drop('Unnamed: 0', 1)\n",
    "df_toxicity = StandardScaler().fit_transform(df_toxicity)\n",
    "\n",
    "train = df_toxicity[:, 1:]\n",
    "test = df_toxicity[:, 0]"
   ]
  },
  {
   "cell_type": "code",
   "execution_count": 101,
   "metadata": {},
   "outputs": [],
   "source": [
    "mnk_mse = []\n",
    "rs_mse = []\n",
    "ths_mse = []\n",
    "m_mse = []\n",
    "r_mse = []\n",
    "hbr_mse = []\n",
    "mm_mse = []\n",
    "\n",
    "for train_index, test_index in loo.split(train):\n",
    "    X_train, X_test = train[train_index], train[test_index]\n",
    "    y_train, y_test = test[train_index], test[test_index]\n",
    "    lr.fit(X_train, y_train)\n",
    "    mnk_coefs = lr.coef_\n",
    "    mnk_mse.append(np.sum(mnk_coefs * X_test))\n",
    "    \n",
    "    ransac.fit(train, test)\n",
    "    ransac_coefs = ransac.estimator_.coef_\n",
    "    rs_mse.append(np.sum(ransac_coefs * X_test))\n",
    "    \n",
    "    ths.fit(train, test)\n",
    "    ths_coefs = ths.coef_\n",
    "    ths_mse.append(np.sum(ths_coefs * X_test))\n",
    "    \n",
    "    m_est = RLM(test, train, M = statsmodels.robust.norms.TukeyBiweight()).fit()\n",
    "    m_est_coefs = np.array(m_est.params)\n",
    "    m_mse.append(np.sum(m_est_coefs * X_test))\n",
    "    \n",
    "    mm_est = MM(train, test, ransac_coefs)\n",
    "    mm_mse.append(np.sum(mm_est * X_test))\n",
    "    \n",
    "    beta = optimize.fmin_bfgs(R, np.zeros(train.shape[1] - 1), args = (train, test), disp = 0)\n",
    "    beta_0 = np.median(test - np.sum(beta * train[:,1:], axis = 1))\n",
    "    r_est = np.concatenate((np.array([beta_0]), beta))\n",
    "    r_mse.append(np.sum(r_est * X_test))\n",
    "    \n",
    "    hbrr_beta = optimize.fmin_bfgs(HBR, np.zeros(train.shape[1] - 1), args = (train, test, ransac_coefs), disp = 0)\n",
    "    hbrr_beta_0 = np.median(test - np.sum(hbrr_beta*train[:,1:], axis = 1))\n",
    "    hbrr_est = np.concatenate((np.array([hbrr_beta_0]), hbrr_beta))\n",
    "    hbr_mse.append(np.sum(hbrr_est * X_test))"
   ]
  },
  {
   "cell_type": "code",
   "execution_count": 102,
   "metadata": {
    "scrolled": false
   },
   "outputs": [
    {
     "name": "stdout",
     "output_type": "stream",
     "text": [
      "leave-one out estimate for MSE:\n",
      "ols: 0.33\n",
      "ransac: 0.20\n",
      "ths-est: 0.18\n",
      "m-est: 0.18\n",
      "r-est: 0.22\n",
      "hbr-est: 0.22\n",
      "mm-est: 0.21\n"
     ]
    }
   ],
   "source": [
    "print('leave-one out estimate for MSE:')\n",
    "print('ols: {:0.2f}\\nransac: {:0.2f}\\nths-est: \\\n",
    "{:0.2f}\\nm-est: {:0.2f}\\nr-est: {:0.2f}\\nhbr-est: {:0.2f}\\nmm-est: {:0.2f}'.format(\n",
    "                                                                        mean_squared_error(mnk_mse, test), \n",
    "                                                                        mean_squared_error(rs_mse, test), \n",
    "                                                                        mean_squared_error(ths_mse, test),\n",
    "                                                                        mean_squared_error(m_mse, test), \n",
    "                                                                        mean_squared_error(r_mse, test), \n",
    "                                                                        mean_squared_error(hbr_mse, test), \n",
    "                                                                        mean_squared_error(mm_mse, test)))\n",
    "\n"
   ]
  },
  {
   "cell_type": "code",
   "execution_count": 103,
   "metadata": {
    "scrolled": true
   },
   "outputs": [
    {
     "name": "stdout",
     "output_type": "stream",
     "text": [
      "leave-one out estimate for MAE:\n",
      "ols: 0.40\n",
      "ransac: 0.29\n",
      "ths-est: 0.29\n",
      "m-est: 0.28\n",
      "r-est: 0.33\n",
      "hbr-est: 0.32\n",
      "mm-est: 0.28\n"
     ]
    }
   ],
   "source": [
    "print('leave-one out estimate for MAE:')\n",
    "print('ols: {:0.2f}\\nransac: {:0.2f}\\nths-est: \\\n",
    "{:0.2f}\\nm-est: {:0.2f}\\nr-est: {:0.2f}\\nhbr-est: {:0.2f}\\nmm-est: {:0.2f}'.format(\n",
    "                                                                        mean_absolute_error(mnk_mse, test), \n",
    "                                                                        mean_absolute_error(rs_mse, test), \n",
    "                                                                        mean_absolute_error(ths_mse, test),\n",
    "                                                                        mean_absolute_error(m_mse, test), \n",
    "                                                                        mean_absolute_error(r_mse, test), \n",
    "                                                                        mean_absolute_error(hbr_mse, test), \n",
    "                                                                        mean_absolute_error(mm_mse, test)))\n",
    "\n"
   ]
  },
  {
   "cell_type": "code",
   "execution_count": 104,
   "metadata": {
    "scrolled": true
   },
   "outputs": [
    {
     "name": "stdout",
     "output_type": "stream",
     "text": [
      "leave-one out estimate for MAD:\n",
      "ols: 0.22\n",
      "ransac: 0.18\n",
      "ths-est: 0.16\n",
      "m-est: 0.18\n",
      "r-est: 0.18\n",
      "hbr-est: 0.21\n",
      "mm-est: 0.16\n"
     ]
    }
   ],
   "source": [
    "print('leave-one out estimate for MAD:')\n",
    "print('ols: {:0.2f}\\nransac: {:0.2f}\\nths-est: \\\n",
    "{:0.2f}\\nm-est: {:0.2f}\\nr-est: {:0.2f}\\nhbr-est: {:0.2f}\\nmm-est: {:0.2f}'.format(\n",
    "                                                                        median_absolute_deviation(mnk_mse - test), \n",
    "                                                                        median_absolute_deviation(rs_mse - test), \n",
    "                                                                        median_absolute_deviation(ths_mse - test),\n",
    "                                                                        median_absolute_deviation(m_mse - test), \n",
    "                                                                        median_absolute_deviation(r_mse - test), \n",
    "                                                                        median_absolute_deviation(hbr_mse - test), \n",
    "                                                                        median_absolute_deviation(mm_mse - test)))"
   ]
  },
  {
   "cell_type": "code",
   "execution_count": 105,
   "metadata": {},
   "outputs": [
    {
     "name": "stdout",
     "output_type": "stream",
     "text": [
      "МНК: [ 1.26702043  0.27515766 -0.40563556  0.07391613  0.47294275 -1.17962828\n",
      "  0.52949734 -0.3657697  -0.07493719]\n",
      "RANSAC: [ 0.68082249 -0.18044244 -0.52296509 -0.18631616 -0.21330216  0.21858688\n",
      "  0.48403196 -0.58436377  0.50919904]\n",
      "THS-est: [ 0.75127056 -0.08330168 -0.43132813  0.0061306   0.02103787  0.12916763\n",
      " -0.04437528 -0.23026588  0.01735838]\n",
      "M-EST: [ 0.83458564 -0.12245468 -0.52147307 -0.10565677 -0.15383343  0.11058923\n",
      "  0.22061028 -0.36342172  0.32882744]\n",
      "MM: [ 0.99549159 -0.09990082 -0.55367566 -0.08853307 -0.19358622  0.31368363\n",
      " -0.11328728 -0.17937811  0.07052905]\n",
      "R-est: [-0.14095293 -0.35038964 -0.39985334 -0.13183966  0.02436642  0.58811888\n",
      "  0.1700927  -0.54107858  0.60952413]\n",
      "HBR-est: [-0.10301753 -0.39585647 -0.36514177 -0.3014664  -0.1372557   0.75222317\n",
      "  0.31731555 -0.69421409  0.69512666]\n"
     ]
    }
   ],
   "source": [
    "print('МНК: {}\\nRANSAC: {}\\nTHS-est: {}\\nM-EST: {}\\nMM: {}\\nR-est: {}\\nHBR-est: {}'.format(\n",
    "    mnk_coefs, \n",
    "    ransac_coefs,\n",
    "    ths_coefs,\n",
    "    m_est_coefs,\n",
    "    mm_est,\n",
    "    r_est,\n",
    "    hbrr_est\n",
    "))"
   ]
  },
  {
   "cell_type": "markdown",
   "metadata": {},
   "source": [
    "# wagnerGrowth"
   ]
  },
  {
   "cell_type": "code",
   "execution_count": 94,
   "metadata": {},
   "outputs": [],
   "source": [
    "df_vaso = pd.read_csv('wagnerGrowth.csv').drop(['Unnamed: 0', 'Region', 'Period'], 1)\n",
    "df_vaso = StandardScaler().fit_transform(df_vaso)\n",
    "\n",
    "train = df_vaso[:, :-1]\n",
    "test = df_vaso[:, -1]"
   ]
  },
  {
   "cell_type": "code",
   "execution_count": 95,
   "metadata": {},
   "outputs": [],
   "source": [
    "mnk_mse = []\n",
    "rs_mse = []\n",
    "ths_mse = []\n",
    "m_mse = []\n",
    "r_mse = []\n",
    "hbr_mse = []\n",
    "mm_mse = []\n",
    "\n",
    "for train_index, test_index in loo.split(train):\n",
    "    X_train, X_test = train[train_index], train[test_index]\n",
    "    y_train, y_test = test[train_index], test[test_index]\n",
    "    lr.fit(X_train, y_train)\n",
    "    mnk_coefs = lr.coef_\n",
    "    mnk_mse.append(np.sum(mnk_coefs * X_test))\n",
    "    \n",
    "    ransac.fit(train, test)\n",
    "    ransac_coefs = ransac.estimator_.coef_\n",
    "    rs_mse.append(np.sum(ransac_coefs * X_test))\n",
    "    \n",
    "    ths.fit(train, test)\n",
    "    ths_coefs = ths.coef_\n",
    "    ths_mse.append(np.sum(ths_coefs * X_test))\n",
    "    \n",
    "    m_est = RLM(test, train, M = statsmodels.robust.norms.TukeyBiweight()).fit()\n",
    "    m_est_coefs = np.array(m_est.params)\n",
    "    m_mse.append(np.sum(m_est_coefs * X_test))\n",
    "    \n",
    "    mm_est = MM(train, test, ransac_coefs)\n",
    "    mm_mse.append(np.sum(mm_est * X_test))\n",
    "    \n",
    "    beta = optimize.fmin_bfgs(R, np.zeros(train.shape[1] - 1), args = (train, test), disp = 0)\n",
    "    beta_0 = np.median(test - np.sum(beta * train[:,1:], axis = 1))\n",
    "    r_est = np.concatenate((np.array([beta_0]), beta))\n",
    "    r_mse.append(np.sum(r_est * X_test))\n",
    "    \n",
    "    hbrr_beta = optimize.fmin_bfgs(HBR, np.zeros(train.shape[1] - 1), args = (train, test, ransac_coefs), disp = 0)\n",
    "    hbrr_beta_0 = np.median(test - np.sum(hbrr_beta*train[:,1:], axis = 1))\n",
    "    hbrr_est = np.concatenate((np.array([hbrr_beta_0]), hbrr_beta))\n",
    "    hbr_mse.append(np.sum(hbrr_est * X_test))"
   ]
  },
  {
   "cell_type": "code",
   "execution_count": 96,
   "metadata": {
    "scrolled": false
   },
   "outputs": [
    {
     "name": "stdout",
     "output_type": "stream",
     "text": [
      "leave-one out estimate for MSE:\n",
      "ols: 0.89\n",
      "ransac: 0.89\n",
      "ths-est: 0.80\n",
      "m-est: 0.74\n",
      "r-est: 0.77\n",
      "hbr-est: 0.77\n",
      "mm-est: 0.79\n"
     ]
    }
   ],
   "source": [
    "print('leave-one out estimate for MSE:')\n",
    "print('ols: {:0.2f}\\nransac: {:0.2f}\\nths-est: \\\n",
    "{:0.2f}\\nm-est: {:0.2f}\\nr-est: {:0.2f}\\nhbr-est: {:0.2f}\\nmm-est: {:0.2f}'.format(\n",
    "                                                                        mean_squared_error(mnk_mse, test), \n",
    "                                                                        mean_squared_error(rs_mse, test), \n",
    "                                                                        mean_squared_error(ths_mse, test),\n",
    "                                                                        mean_squared_error(m_mse, test), \n",
    "                                                                        mean_squared_error(r_mse, test), \n",
    "                                                                        mean_squared_error(hbr_mse, test), \n",
    "                                                                        mean_squared_error(mm_mse, test)))\n",
    "\n"
   ]
  },
  {
   "cell_type": "code",
   "execution_count": 97,
   "metadata": {
    "scrolled": true
   },
   "outputs": [
    {
     "name": "stdout",
     "output_type": "stream",
     "text": [
      "leave-one out estimate for MAE:\n",
      "ols: 0.73\n",
      "ransac: 0.69\n",
      "ths-est: 0.69\n",
      "m-est: 0.67\n",
      "r-est: 0.68\n",
      "hbr-est: 0.68\n",
      "mm-est: 0.66\n"
     ]
    }
   ],
   "source": [
    "print('leave-one out estimate for MAE:')\n",
    "print('ols: {:0.2f}\\nransac: {:0.2f}\\nths-est: \\\n",
    "{:0.2f}\\nm-est: {:0.2f}\\nr-est: {:0.2f}\\nhbr-est: {:0.2f}\\nmm-est: {:0.2f}'.format(\n",
    "                                                                        mean_absolute_error(mnk_mse, test), \n",
    "                                                                        mean_absolute_error(rs_mse, test), \n",
    "                                                                        mean_absolute_error(ths_mse, test),\n",
    "                                                                        mean_absolute_error(m_mse, test), \n",
    "                                                                        mean_absolute_error(r_mse, test), \n",
    "                                                                        mean_absolute_error(hbr_mse, test), \n",
    "                                                                        mean_absolute_error(mm_mse, test)))\n",
    "\n"
   ]
  },
  {
   "cell_type": "code",
   "execution_count": 98,
   "metadata": {
    "scrolled": true
   },
   "outputs": [
    {
     "name": "stdout",
     "output_type": "stream",
     "text": [
      "leave-one out estimate for MAD:\n",
      "ols: 0.55\n",
      "ransac: 0.48\n",
      "ths-est: 0.57\n",
      "m-est: 0.52\n",
      "r-est: 0.48\n",
      "hbr-est: 0.48\n",
      "mm-est: 0.43\n"
     ]
    }
   ],
   "source": [
    "print('leave-one out estimate for MAD:')\n",
    "print('ols: {:0.2f}\\nransac: {:0.2f}\\nths-est: \\\n",
    "{:0.2f}\\nm-est: {:0.2f}\\nr-est: {:0.2f}\\nhbr-est: {:0.2f}\\nmm-est: {:0.2f}'.format(\n",
    "                                                                        median_absolute_deviation(mnk_mse - test), \n",
    "                                                                        median_absolute_deviation(rs_mse - test), \n",
    "                                                                        median_absolute_deviation(ths_mse - test),\n",
    "                                                                        median_absolute_deviation(m_mse - test), \n",
    "                                                                        median_absolute_deviation(r_mse - test), \n",
    "                                                                        median_absolute_deviation(hbr_mse - test), \n",
    "                                                                        median_absolute_deviation(mm_mse - test)))"
   ]
  },
  {
   "cell_type": "code",
   "execution_count": 99,
   "metadata": {},
   "outputs": [
    {
     "name": "stdout",
     "output_type": "stream",
     "text": [
      "МНК: [-0.2458133   0.12098531  0.08876425  0.31642709]\n",
      "RANSAC: [-0.34025335  0.42478888 -0.15709205  0.49404302]\n",
      "THS-est: [-0.49655549  0.13305208  0.04101008  0.2810387 ]\n",
      "M-EST: [-0.30386028  0.13960105 -0.00360838  0.27877419]\n",
      "MM: [-0.23919455  0.34630018  0.0070708   0.30971656]\n",
      "R-est: [-0.04509467  0.24864887  0.11457138  0.33792788]\n",
      "HBR-est: [-0.04307705  0.25529021  0.10679807  0.33887745]\n"
     ]
    }
   ],
   "source": [
    "print('МНК: {}\\nRANSAC: {}\\nTHS-est: {}\\nM-EST: {}\\nMM: {}\\nR-est: {}\\nHBR-est: {}'.format(\n",
    "    mnk_coefs, \n",
    "    ransac_coefs,\n",
    "    ths_coefs,\n",
    "    m_est_coefs,\n",
    "    mm_est,\n",
    "    r_est,\n",
    "    hbrr_est\n",
    "))"
   ]
  },
  {
   "cell_type": "code",
   "execution_count": null,
   "metadata": {},
   "outputs": [],
   "source": []
  }
 ],
 "metadata": {
  "kernelspec": {
   "display_name": "Python 3",
   "language": "python",
   "name": "python3"
  },
  "language_info": {
   "codemirror_mode": {
    "name": "ipython",
    "version": 3
   },
   "file_extension": ".py",
   "mimetype": "text/x-python",
   "name": "python",
   "nbconvert_exporter": "python",
   "pygments_lexer": "ipython3",
   "version": "3.7.1"
  }
 },
 "nbformat": 4,
 "nbformat_minor": 2
}
