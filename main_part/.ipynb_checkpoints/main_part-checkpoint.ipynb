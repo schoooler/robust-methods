{
 "cells": [
  {
   "cell_type": "code",
   "execution_count": null,
   "metadata": {
    "scrolled": false
   },
   "outputs": [],
   "source": [
    "import numpy as np\n",
    "import statsmodels.api as sm\n",
    "import statsmodels.formula.api as smf\n",
    "import scipy.stats as st\n",
    "import matplotlib.pyplot as plt\n",
    "from sklearn.linear_model import LinearRegression,RANSACRegressor,TheilSenRegressor\n",
    "from statsmodels.robust.robust_linear_model import RLM\n",
    "import statsmodels\n",
    "import pandas as pd\n",
    "from tqdm import tqdm\n",
    "import random\n",
    "from scipy import optimize\n",
    "from sklearn.covariance import MinCovDet as MCD\n",
    "import time"
   ]
  },
  {
   "cell_type": "code",
   "execution_count": null,
   "metadata": {},
   "outputs": [],
   "source": [
    "main_size = 500"
   ]
  },
  {
   "cell_type": "code",
   "execution_count": null,
   "metadata": {},
   "outputs": [],
   "source": [
    "def Add_Column(df, n = main_size):\n",
    "    return np.column_stack([np.ones([df.shape[0], 1], dtype=np.int32), df])"
   ]
  },
  {
   "cell_type": "code",
   "execution_count": null,
   "metadata": {},
   "outputs": [],
   "source": [
    "ideal_coefs = np.array([5,2])"
   ]
  },
  {
   "cell_type": "code",
   "execution_count": null,
   "metadata": {},
   "outputs": [],
   "source": [
    "def MC(df, y):\n",
    "    sum_mnk = 0\n",
    "    sum_rs = 0\n",
    "    sum_ts = 0\n",
    "    sum_m = 0\n",
    "    sum_mm = 0\n",
    "    sum_r = 0\n",
    "    sum_hbr = 0\n",
    "    sum_lms = 0\n",
    "    sum_mmr = 0\n",
    "    sum_hbrr = 0\n",
    "    nu = 1000\n",
    "    for i in tqdm(range(nu)):   \n",
    "        #МНК\n",
    "        lr = LinearRegression(fit_intercept=False)\n",
    "        lr.fit(df_norm, y_norm)\n",
    "        mnk_coefs = lr.coef_\n",
    "        #ransac\n",
    "        ransac = RANSACRegressor(lr)\n",
    "        ransac.fit(df_norm, y_norm)\n",
    "        ransac_coefs = ransac.estimator_.coef_\n",
    "        #Theil-Sen Regressor\n",
    "        ths = TheilSenRegressor(fit_intercept=False)\n",
    "        ths.fit(df_norm, y_norm)\n",
    "        ths_coefs = ths.coef_\n",
    "        #LMS-оценка\n",
    "        lms = LMS(df_norm, y_norm)\n",
    "        # M-оценка\n",
    "        m_est = RLM(y_norm, df_norm, M = statsmodels.robust.norms.TukeyBiweight()).fit()\n",
    "        m_est_coefs = m_est.params\n",
    "        ## ММ-оценка\n",
    "        mm_est = MM(df_norm, y_norm, lms)\n",
    "        #R-оценка\n",
    "        beta = optimize.fmin_bfgs(R, 0, args = (df_norm[:,1], y_norm), disp = 0)[0]\n",
    "        beta_0 = np.median(y_norm - beta*df_norm[:,1])\n",
    "        r_est = np.array([beta_0, beta])\n",
    "        #HBR-оценка\n",
    "        hbr_beta = optimize.fmin_bfgs(HBR, 0, args = (df_norm, y_norm, lms), disp = 0)\n",
    "        hbr_est = np.array([np.median(y_norm - hbr_beta * df_norm[:,1]),hbr_beta])\n",
    "        #HBRR-оценка\n",
    "        hbrr_beta = optimize.fmin_bfgs(HBR, 0, args = (df_norm, y_norm, ransac_coefs), disp = 0)\n",
    "        hbrr_est = np.array([np.median(y_norm - hbrr_beta * df_norm[:,1]),hbrr_beta])\n",
    "        #MMR-оценка\n",
    "        mmr_est = MM(df_norm, y_norm, ransac_coefs)\n",
    "        #подсчет\n",
    "        \n",
    "        sum_mnk += np.linalg.norm(ideal_coefs - mnk_coefs)/nu\n",
    "        sum_m += np.linalg.norm(ideal_coefs - m_est_coefs)/nu\n",
    "        sum_ts += np.linalg.norm(ideal_coefs - ths_coefs)/nu\n",
    "        sum_rs += np.linalg.norm(ideal_coefs - ransac_coefs)/nu\n",
    "        sum_mm += np.linalg.norm(ideal_coefs - mm_est)/nu\n",
    "        sum_hbr += np.linalg.norm(ideal_coefs - hbr_est)/nu\n",
    "        sum_r += np.linalg.norm(ideal_coefs - r_est)/nu\n",
    "        sum_lms += np.linalg.norm(ideal_coefs - lms)/nu\n",
    "        sum_mmr += np.linalg.norm(ideal_coefs - mmr_est)/nu\n",
    "        sum_hbrr += np.linalg.norm(ideal_coefs - hbrr_est)/nu\n",
    "        \n",
    "    return sum_mnk, sum_m, sum_mm, sum_r, sum_hbr, sum_lms, sum_rs, sum_ts, sum_mmr, sum_hbrr"
   ]
  },
  {
   "cell_type": "code",
   "execution_count": null,
   "metadata": {},
   "outputs": [],
   "source": [
    "def normal(mean, var, sz = main_size):\n",
    "    return st.norm.rvs(loc = mean, scale = np.sqrt(var), size = sz)\n",
    "\n",
    "def unif(a,b):\n",
    "    return st.uniform.rvs(loc = a, scale = b-a, size = main_size)\n",
    "    \n",
    "def tukey(var_1, var_2, bp = 0.1, sz = main_size):\n",
    "    eps = np.array([])\n",
    "    for i in range(sz):\n",
    "        c = st.uniform.rvs()\n",
    "        if c >= bp:\n",
    "            eps = np.append(eps, st.norm.rvs(scale = np.sqrt(var_1)))\n",
    "        else:\n",
    "            eps = np.append(eps, st.norm.rvs(scale = np.sqrt(var_2)))\n",
    "    return eps\n",
    "            \n",
    "def cauchy(sz = main_size):\n",
    "    return st.t.rvs(df = 1, size = sz)"
   ]
  },
  {
   "cell_type": "code",
   "execution_count": null,
   "metadata": {},
   "outputs": [],
   "source": [
    "def LMS(df, y):\n",
    "    h = int(df.shape[0]/2 + 1)\n",
    "    Q = 1000000000\n",
    "    beta = np.array([1,1],dtype=float)\n",
    "    for i in range(df.shape[0]):\n",
    "        for j in range(i):\n",
    "            if df[:,1][i] != df[:,1][j]:\n",
    "                beta[1] = (y[i]-y[j])/(df[:,1][i] - df[:,1][j])\n",
    "                beta[0] = df[:,1][i]*y[j] - df[:,1][j]*y[i]\n",
    "                med = np.median(np.abs(y - np.sum(beta*df, axis=1)))\n",
    "                if med < Q:\n",
    "                    Q = med.copy()\n",
    "                    ans = beta.copy()\n",
    "    return ans"
   ]
  },
  {
   "cell_type": "code",
   "execution_count": null,
   "metadata": {},
   "outputs": [],
   "source": [
    "df_norm = normal(10,5)\n",
    "eps = normal(0,1)\n",
    "y_norm = 5 + 2*df_norm + eps\n",
    "df_norm = Add_Column(df_norm)\n",
    "LMS(df_norm, y_norm)"
   ]
  },
  {
   "cell_type": "code",
   "execution_count": null,
   "metadata": {},
   "outputs": [],
   "source": [
    "def MM(df, y, blms):\n",
    "    n = df.shape[0]\n",
    "    s = y - np.sum(blms * df, axis = 1)\n",
    "    res_itog = np.abs(np.median(s) - s)\n",
    "    MADN = np.median(np.abs(res_itog)) / 0.675\n",
    "    const1 = 10\n",
    "    const2 = 4.68\n",
    "    var = s/(const1*MADN)\n",
    "    w = np.minimum(3 - 3*np.power(var,2) + np.power(var,4), 1/np.power(var,2))\n",
    "    sigma_1 = np.dot(w,np.power(s/const1,2))\n",
    "    sigma_1 = np.sqrt(sigma_1 * 2/ df.shape[0])\n",
    "    eps = 0.0001\n",
    "    while(np.abs(sigma_1/MADN - 1) > eps):\n",
    "        MADN = sigma_1\n",
    "        sigma_1 = 0\n",
    "        w = np.minimum(3 - 3*np.power(var,2) + np.power(var,4), 1/np.power(var,2))\n",
    "        sigma_1 = np.dot(w,np.power(s/const1,2))\n",
    "        sigma_1 = np.sqrt(sigma_1 * 2 / n)\n",
    "    var2 = s/(const2*MADN)\n",
    "    w = np.minimum(3 - 3*np.power(var2,2) + np.power(var2,4), 1/np.power(var2,2))\n",
    "    W = np.diag(w)\n",
    "    beta = blms\n",
    "    beta_1 = np.dot(np.dot(np.dot(np.linalg.inv(np.dot(np.dot(df.T,W), df)), df.T), W), y)\n",
    "    eps = 0.001\n",
    "    while np.linalg.norm(beta_1-beta)/np.linalg.norm(beta) > eps:\n",
    "        s = y - np.sum(beta_1 * df, axis = 1)\n",
    "        var2 = s/(const2*sigma_1)\n",
    "        w = np.minimum(3 - 3*np.power(var2,2) + np.power(var2,4), 1/np.power(var2,2))\n",
    "        W = np.diag(w)\n",
    "        beta = beta_1\n",
    "        beta_1 = np.dot(np.dot(np.dot(np.linalg.inv(np.dot(np.dot(df.T,W), df)), df.T), W), y)\n",
    "    return beta_1"
   ]
  },
  {
   "cell_type": "code",
   "execution_count": null,
   "metadata": {},
   "outputs": [],
   "source": [
    "def R(x, df, y):\n",
    "    s = 0\n",
    "    array = y - x*df\n",
    "    temp = array.argsort()\n",
    "    ranks = np.empty_like(temp)\n",
    "    ranks[temp] = np.arange(len(array))\n",
    "    return np.dot(array, ranks/(df.shape[0]) - 0.5)"
   ]
  },
  {
   "cell_type": "code",
   "execution_count": null,
   "metadata": {},
   "outputs": [],
   "source": [
    "def HBR(x, df, y, lts):\n",
    "    resid = y - np.sum(lts * df,axis = 1)\n",
    "    MADN = 1.483*np.median(np.abs(resid - np.median(resid)))\n",
    "    mcd = MCD()\n",
    "    mcd.fit(df[:,1].reshape(-1,1))\n",
    "    mahal =  mcd.mahalanobis(df[:,1].reshape(-1,1))\n",
    "    b, c = 4, 4 \n",
    "    resid = np.abs(resid / MADN)\n",
    "    resid_new = y - x * df[:,1]\n",
    "    resid_dif = np.abs(resid_new - resid_new.reshape(-1,1))\n",
    "    resid_dif = np.tril(resid_dif, -1)\n",
    "    mahal = b / mahal\n",
    "    mahal[mahal > 1] = 1\n",
    "    mahal = mahal / resid\n",
    "    mahal = mahal.reshape(-1, 1) * mahal\n",
    "    mahal = np.tril(mahal, -1)\n",
    "    mahal = c * mahal\n",
    "    mahal[mahal > 1] = 1\n",
    "    ans = np.sum(mahal * resid_dif)\n",
    "    return ans"
   ]
  },
  {
   "cell_type": "code",
   "execution_count": null,
   "metadata": {},
   "outputs": [],
   "source": [
    "start_time = time.time()\n",
    "lms = LMS(df_norm, y_norm)\n",
    "hbr_beta = optimize.fmin_bfgs(HBR, 0, args = (df_norm, y_norm, lms), disp = 0)\n",
    "np.array([np.median(y_norm - hbr_beta * df_norm[:,1]),hbr_beta])\n",
    "print(\"--- %s out seconds ---\" % (time.time() - start_time))"
   ]
  },
  {
   "cell_type": "markdown",
   "metadata": {},
   "source": [
    "## $X_1 \\sim N(20;2), X_2 \\sim N(10;3), \\varepsilon \\sim N(0;3)$"
   ]
  },
  {
   "cell_type": "code",
   "execution_count": null,
   "metadata": {},
   "outputs": [],
   "source": [
    "norm1 = normal(20,2)\n",
    "norm2 = normal(10,3)\n",
    "df_norm = Add_Column(np.concatenate((norm1, norm2)).reshape(2, main_size).transpose())\n",
    "eps = normal(0,3)\n",
    "y_norm = 5 + 2*df_norm[:,1] + df_norm[:, 2] + eps"
   ]
  },
  {
   "cell_type": "code",
   "execution_count": null,
   "metadata": {},
   "outputs": [],
   "source": [
    "lr = LinearRegression(fit_intercept=False)\n",
    "lr.fit(df_norm, y_norm)\n",
    "mnk_coefs = lr.coef_"
   ]
  },
  {
   "cell_type": "code",
   "execution_count": null,
   "metadata": {},
   "outputs": [],
   "source": [
    "ransac = RANSACRegressor(lr)\n",
    "ransac.fit(df_norm, y_norm)\n",
    "ransac_coefs = ransac.estimator_.coef_"
   ]
  },
  {
   "cell_type": "code",
   "execution_count": null,
   "metadata": {},
   "outputs": [],
   "source": [
    "ths = TheilSenRegressor(fit_intercept=False)\n",
    "ths.fit(df_norm, y_norm)\n",
    "ths_coefs = ths.coef_"
   ]
  },
  {
   "cell_type": "markdown",
   "metadata": {},
   "source": [
    "# Нет кластера выбросов"
   ]
  },
  {
   "cell_type": "markdown",
   "metadata": {},
   "source": [
    "#  $y = 5 + 2X + \\varepsilon$"
   ]
  },
  {
   "cell_type": "markdown",
   "metadata": {},
   "source": [
    "### $X \\sim N(20;2), \\varepsilon \\sim N(0;3)$"
   ]
  },
  {
   "cell_type": "code",
   "execution_count": null,
   "metadata": {
    "scrolled": false
   },
   "outputs": [],
   "source": [
    "df_norm = normal(20, 2)\n",
    "eps = normal(0, 3)\n",
    "y_norm = 5 + 2*df_norm + eps\n",
    "df_norm = Add_Column(df_norm)\n",
    "sum_mnk, sum_m, sum_mm, sum_r, sum_hbr, sum_lms, sum_rs, sum_ts,sum_mmr, sum_hbrr = MC(df_norm, y_norm)"
   ]
  },
  {
   "cell_type": "code",
   "execution_count": null,
   "metadata": {},
   "outputs": [],
   "source": [
    "sum_mnk, sum_m, sum_mm, sum_r, sum_hbr, sum_lms, sum_rs, sum_ts,sum_mmr, sum_hbrr"
   ]
  },
  {
   "cell_type": "code",
   "execution_count": null,
   "metadata": {},
   "outputs": [],
   "source": [
    "sum_mm, sum_hbr, sum_mmr, sum_hbrr"
   ]
  },
  {
   "cell_type": "markdown",
   "metadata": {},
   "source": [
    "### $X \\sim N(20;2), \\varepsilon \\sim CN(0.1;1;100)$"
   ]
  },
  {
   "cell_type": "code",
   "execution_count": null,
   "metadata": {},
   "outputs": [],
   "source": [
    "df_norm = normal(20, 2)\n",
    "eps = tukey(1,100)\n",
    "y_norm = 5 + 2*df_norm + eps\n",
    "df_norm = Add_Column(df_norm)\n",
    "sum_mnk, sum_m, sum_mm, sum_r, sum_hbr, sum_lms, sum_rs, sum_ts, sum_mmr, sum_hbrr = MC(df_norm, y_norm)"
   ]
  },
  {
   "cell_type": "code",
   "execution_count": null,
   "metadata": {},
   "outputs": [],
   "source": [
    "sum_mnk, sum_m, sum_mm, sum_r, sum_hbr, sum_lms, sum_rs, sum_ts, sum_mmr, sum_hbrr"
   ]
  },
  {
   "cell_type": "markdown",
   "metadata": {},
   "source": [
    "### $X \\sim N(10;5), \\varepsilon \\sim C(0;1)$,"
   ]
  },
  {
   "cell_type": "code",
   "execution_count": null,
   "metadata": {},
   "outputs": [],
   "source": [
    "eps = cauchy()\n",
    "y_norm = 5 + 2*df_norm[:,1] + eps\n",
    "sum_mnk, sum_m, sum_mm, sum_r, sum_hbr, sum_lms, sum_rs, sum_ts, sum_mmr, sum_hbrr = MC(df_norm, y_norm)"
   ]
  },
  {
   "cell_type": "code",
   "execution_count": null,
   "metadata": {},
   "outputs": [],
   "source": [
    "sum_mnk, sum_m, sum_mm, sum_r, sum_hbr, sum_lms, sum_rs, sum_ts, sum_mmr, sum_hbrr"
   ]
  },
  {
   "cell_type": "markdown",
   "metadata": {},
   "source": [
    "### $X \\sim U(3;7), \\varepsilon \\sim N(0;3)$"
   ]
  },
  {
   "cell_type": "code",
   "execution_count": null,
   "metadata": {},
   "outputs": [],
   "source": [
    "df_norm = unif(3,7)\n",
    "eps = normal(0,3)\n",
    "y_norm = 5 + 2*df_norm + eps\n",
    "df_norm = Add_Column(df_norm)"
   ]
  },
  {
   "cell_type": "code",
   "execution_count": null,
   "metadata": {},
   "outputs": [],
   "source": [
    "sum_mnk, sum_m, sum_mm, sum_r, sum_hbr, sum_lms, sum_rs, sum_ts, sum_mmr, sum_hbrr = MC(df_norm, y_norm)"
   ]
  },
  {
   "cell_type": "code",
   "execution_count": null,
   "metadata": {},
   "outputs": [],
   "source": [
    "sum_mnk, sum_m, sum_mm, sum_r, sum_hbr, sum_lms, sum_rs, sum_ts, sum_mmr, sum_hbrr"
   ]
  },
  {
   "cell_type": "markdown",
   "metadata": {},
   "source": [
    "### $X \\sim U(3;7), \\varepsilon \\sim C(0;1)$"
   ]
  },
  {
   "cell_type": "code",
   "execution_count": null,
   "metadata": {},
   "outputs": [],
   "source": [
    "eps = cauchy()\n",
    "y_norm = 5 + 2*df_norm[:,1] + eps"
   ]
  },
  {
   "cell_type": "code",
   "execution_count": null,
   "metadata": {},
   "outputs": [],
   "source": [
    "sum_mnk, sum_m, sum_mm, sum_r, sum_hbr, sum_lms, sum_rs, sum_ts, sum_mmr, sum_hbrr = MC(df_norm, y_norm)"
   ]
  },
  {
   "cell_type": "code",
   "execution_count": null,
   "metadata": {},
   "outputs": [],
   "source": [
    "sum_mnk, sum_m, sum_mm, sum_r, sum_hbr, sum_lms, sum_rs, sum_ts, sum_mmr, sum_hbrr"
   ]
  },
  {
   "cell_type": "markdown",
   "metadata": {},
   "source": [
    "### $X \\sim CN(0.1;5; 200), \\varepsilon \\sim N(0; 3)$"
   ]
  },
  {
   "cell_type": "code",
   "execution_count": null,
   "metadata": {},
   "outputs": [],
   "source": [
    "df_norm = tukey(5,200)\n",
    "eps = normal(0,3)\n",
    "y_norm = 5 + 2*df_norm + eps\n",
    "df_norm = Add_Column(df_norm)"
   ]
  },
  {
   "cell_type": "code",
   "execution_count": null,
   "metadata": {
    "scrolled": true
   },
   "outputs": [],
   "source": [
    "sum_mnk, sum_m, sum_mm, sum_r, sum_hbr, sum_lms, sum_rs, sum_ts, sum_mmr, sum_hbrr = MC(df_norm, y_norm)"
   ]
  },
  {
   "cell_type": "code",
   "execution_count": null,
   "metadata": {},
   "outputs": [],
   "source": [
    "sum_mnk, sum_m, sum_r, sum_lms, sum_rs, sum_ts, sum_mm, sum_hbr, sum_mmr, sum_hbrr"
   ]
  },
  {
   "cell_type": "markdown",
   "metadata": {},
   "source": [
    "### $X \\sim CN(0.1;5;200), \\varepsilon \\sim CN(0.1;1;100)$"
   ]
  },
  {
   "cell_type": "code",
   "execution_count": null,
   "metadata": {},
   "outputs": [],
   "source": [
    "eps = tukey(1,100)\n",
    "y_norm = 5 + 2*df_norm[:,1] + eps"
   ]
  },
  {
   "cell_type": "code",
   "execution_count": null,
   "metadata": {},
   "outputs": [],
   "source": [
    "sum_mnk, sum_m, sum_mm, sum_r, sum_hbr, sum_lms, sum_rs, sum_ts, sum_mmr, sum_hbrr = MC(df_norm, y_norm)"
   ]
  },
  {
   "cell_type": "code",
   "execution_count": null,
   "metadata": {},
   "outputs": [],
   "source": [
    "sum_mnk, sum_m, sum_r, sum_lms, sum_rs, sum_ts, sum_mm, sum_hbr, sum_mmr, sum_hbrr"
   ]
  },
  {
   "cell_type": "markdown",
   "metadata": {},
   "source": [
    "### $X \\sim CN(0.1;5;200), \\varepsilon \\sim C(0;1)$"
   ]
  },
  {
   "cell_type": "code",
   "execution_count": null,
   "metadata": {},
   "outputs": [],
   "source": [
    "eps = cauchy()\n",
    "y_norm = 5 + 2*df_norm[:,1] + eps"
   ]
  },
  {
   "cell_type": "code",
   "execution_count": null,
   "metadata": {},
   "outputs": [],
   "source": [
    "sum_mnk, sum_m, sum_mm, sum_r, sum_hbr, sum_lms, sum_rs, sum_ts, sum_mmr, sum_hbrr = MC(df_norm, y_norm)"
   ]
  },
  {
   "cell_type": "code",
   "execution_count": null,
   "metadata": {},
   "outputs": [],
   "source": [
    "sum_mnk, sum_m, sum_r, sum_lms, sum_rs, sum_ts, sum_mm, sum_hbr, sum_mmr, sum_hbrr"
   ]
  },
  {
   "cell_type": "markdown",
   "metadata": {},
   "source": [
    "### $X \\sim C(0;1), \\varepsilon \\sim N(0;3)$"
   ]
  },
  {
   "cell_type": "code",
   "execution_count": null,
   "metadata": {},
   "outputs": [],
   "source": [
    "df_norm = cauchy()\n",
    "eps = normal(0,3)\n",
    "y_norm = 5 + 2*df_norm + eps\n",
    "df_norm = Add_Column(df_norm)"
   ]
  },
  {
   "cell_type": "code",
   "execution_count": null,
   "metadata": {},
   "outputs": [],
   "source": [
    "sum_mnk, sum_m, sum_mm, sum_r, sum_hbr, sum_lms, sum_rs, sum_ts, sum_mmr, sum_hbrr = MC(df_norm, y_norm)"
   ]
  },
  {
   "cell_type": "code",
   "execution_count": null,
   "metadata": {},
   "outputs": [],
   "source": [
    "sum_mnk, sum_m, sum_r, sum_lms, sum_rs, sum_ts, sum_mm, sum_hbr, sum_mmr, sum_hbrr"
   ]
  },
  {
   "cell_type": "markdown",
   "metadata": {},
   "source": [
    "### $X \\sim C(0;1), \\varepsilon \\sim CN(0.1;1;100)$"
   ]
  },
  {
   "cell_type": "code",
   "execution_count": null,
   "metadata": {},
   "outputs": [],
   "source": [
    "eps = tukey(1,100)\n",
    "y_norm = 5 + 2*df_norm[:,1] + eps"
   ]
  },
  {
   "cell_type": "code",
   "execution_count": null,
   "metadata": {},
   "outputs": [],
   "source": [
    "sum_mnk, sum_m, sum_mm, sum_r, sum_hbr, sum_lms, sum_rs, sum_ts, sum_mmr, sum_hbrr = MC(df_norm, y_norm)"
   ]
  },
  {
   "cell_type": "code",
   "execution_count": null,
   "metadata": {},
   "outputs": [],
   "source": [
    "sum_mnk, sum_m, sum_r, sum_lms, sum_rs, sum_ts, sum_mm, sum_hbr, sum_mmr, sum_hbrr"
   ]
  },
  {
   "cell_type": "markdown",
   "metadata": {},
   "source": [
    "### $X \\sim C(0;1), \\varepsilon \\sim C(0;1)$"
   ]
  },
  {
   "cell_type": "code",
   "execution_count": null,
   "metadata": {},
   "outputs": [],
   "source": [
    "eps = cauchy()\n",
    "y_norm = 5 + 2*df_norm[:,1] + eps"
   ]
  },
  {
   "cell_type": "code",
   "execution_count": null,
   "metadata": {},
   "outputs": [],
   "source": [
    "sum_mnk, sum_m, sum_mm, sum_r, sum_hbr, sum_lms, sum_rs, sum_ts, sum_mmr, sum_hbrr = MC(df_norm, y_norm)"
   ]
  },
  {
   "cell_type": "code",
   "execution_count": null,
   "metadata": {},
   "outputs": [],
   "source": [
    "sum_mnk, sum_m, sum_r, sum_lms, sum_rs, sum_ts, sum_mm, sum_hbr, sum_mmr, sum_hbrr"
   ]
  },
  {
   "cell_type": "markdown",
   "metadata": {},
   "source": [
    "# Кластер выбросов"
   ]
  },
  {
   "cell_type": "markdown",
   "metadata": {},
   "source": [
    "### $X \\sim N(10;5), \\varepsilon \\sim N(0;3)$"
   ]
  },
  {
   "cell_type": "code",
   "execution_count": null,
   "metadata": {},
   "outputs": [],
   "source": [
    "df_norm = normal(10,5)\n",
    "eps = normal(0,3)\n",
    "a = np.arange(main_size)\n",
    "random.shuffle(a)\n",
    "y_norm = 5 + 2*df_norm + eps\n",
    "y_norm[:50] += 1000\n",
    "df_norm = Add_Column(df_norm)"
   ]
  },
  {
   "cell_type": "code",
   "execution_count": null,
   "metadata": {},
   "outputs": [],
   "source": [
    "sum_mnk, sum_m, sum_mm, sum_r, sum_hbr, sum_lms, sum_rs, sum_ts, sum_mmr, sum_hbrr = MC(df_norm, y_norm)"
   ]
  },
  {
   "cell_type": "code",
   "execution_count": null,
   "metadata": {
    "scrolled": true
   },
   "outputs": [],
   "source": [
    "sum_mnk, sum_m, sum_mm, sum_r, sum_hbr, sum_lms, sum_rs, sum_ts,sum_mmr, sum_hbrr"
   ]
  },
  {
   "cell_type": "code",
   "execution_count": null,
   "metadata": {},
   "outputs": [],
   "source": [
    "sum_mm, sum_hbr, sum_mmr, sum_hbrr"
   ]
  },
  {
   "cell_type": "markdown",
   "metadata": {},
   "source": [
    "### $X \\sim N(10;5), \\varepsilon \\sim CN(0.1;1;100)$"
   ]
  },
  {
   "cell_type": "code",
   "execution_count": null,
   "metadata": {},
   "outputs": [],
   "source": [
    "df_norm = normal(10,5)\n",
    "eps = tukey(1,100)\n",
    "y_norm = 5 + 2*df_norm + eps\n",
    "y_norm[:50] += 5000\n",
    "df_norm = Add_Column(df_norm)"
   ]
  },
  {
   "cell_type": "code",
   "execution_count": null,
   "metadata": {
    "scrolled": true
   },
   "outputs": [],
   "source": [
    "sum_mnk, sum_m, sum_mm, sum_r, sum_hbr, sum_lms, sum_rs, sum_ts, sum_mmr, sum_hbrr = MC(df_norm, y_norm)"
   ]
  },
  {
   "cell_type": "code",
   "execution_count": null,
   "metadata": {},
   "outputs": [],
   "source": [
    "sum_mnk, sum_m, sum_r, sum_lms, sum_rs, sum_ts, sum_mm, sum_hbr, sum_mmr, sum_hbrr"
   ]
  },
  {
   "cell_type": "markdown",
   "metadata": {},
   "source": [
    "### $X \\sim N(10;5), \\varepsilon \\sim C(0;1)$"
   ]
  },
  {
   "cell_type": "code",
   "execution_count": null,
   "metadata": {},
   "outputs": [],
   "source": [
    "df_norm = normal(10,5)\n",
    "eps = cauchy()\n",
    "a = np.arange(main_size)\n",
    "random.shuffle(a)\n",
    "eps[a[:50]] += 5000\n",
    "y_norm = 5 + 2*df_norm + eps\n",
    "df_norm = Add_Column(df_norm)"
   ]
  },
  {
   "cell_type": "code",
   "execution_count": null,
   "metadata": {},
   "outputs": [],
   "source": [
    "sum_mnk, sum_m, sum_mm, sum_r, sum_hbr, sum_lms, sum_rs, sum_ts, sum_mmr, sum_hbrr = MC(df_norm, y_norm)"
   ]
  },
  {
   "cell_type": "code",
   "execution_count": null,
   "metadata": {},
   "outputs": [],
   "source": [
    "sum_mnk, sum_m, sum_r, sum_lms, sum_rs, sum_ts, sum_mm, sum_hbr, sum_mmr, sum_hbrr"
   ]
  },
  {
   "cell_type": "markdown",
   "metadata": {},
   "source": [
    "### $X \\sim U(3;7), \\varepsilon \\sim N(0;3)$"
   ]
  },
  {
   "cell_type": "code",
   "execution_count": null,
   "metadata": {},
   "outputs": [],
   "source": [
    "df_norm = unif(3,7)\n",
    "eps = normal(0,3)\n",
    "y_norm = 5 + 2*df_norm + eps\n",
    "y_norm[:50] += 10000\n",
    "df_norm = Add_Column(df_norm)"
   ]
  },
  {
   "cell_type": "code",
   "execution_count": null,
   "metadata": {
    "scrolled": true
   },
   "outputs": [],
   "source": [
    "sum_mnk, sum_m, sum_mm, sum_r, sum_hbr, sum_lms, sum_rs, sum_ts, sum_mmr, sum_hbrr = MC(df_norm, y_norm)"
   ]
  },
  {
   "cell_type": "code",
   "execution_count": null,
   "metadata": {},
   "outputs": [],
   "source": [
    "sum_mnk, sum_m, sum_r, sum_lms, sum_rs, sum_ts, sum_mm, sum_hbr, sum_mmr, sum_hbrr"
   ]
  },
  {
   "cell_type": "markdown",
   "metadata": {},
   "source": [
    "### $X \\sim U(3;7), \\varepsilon \\sim CN(0.1;1;100)$"
   ]
  },
  {
   "cell_type": "code",
   "execution_count": null,
   "metadata": {},
   "outputs": [],
   "source": [
    "df_norm = unif(3,7)\n",
    "eps = tukey(1,100)\n",
    "y_norm = 5 + 2*df_norm + eps\n",
    "y_norm[:50] += 5000\n",
    "df_norm = Add_Column(df_norm)"
   ]
  },
  {
   "cell_type": "code",
   "execution_count": null,
   "metadata": {},
   "outputs": [],
   "source": [
    "sum_mnk, sum_m, sum_mm, sum_r, sum_hbr, sum_lms, sum_rs, sum_ts, sum_mmr, sum_hbrr = MC(df_norm, y_norm)"
   ]
  },
  {
   "cell_type": "code",
   "execution_count": null,
   "metadata": {},
   "outputs": [],
   "source": [
    "sum_mnk, sum_m, sum_r, sum_lms, sum_rs, sum_ts, sum_mm, sum_hbr, sum_mmr, sum_hbrr"
   ]
  },
  {
   "cell_type": "markdown",
   "metadata": {},
   "source": [
    "### $X \\sim U(3;7), \\varepsilon \\sim C(0;1)$"
   ]
  },
  {
   "cell_type": "code",
   "execution_count": null,
   "metadata": {},
   "outputs": [],
   "source": [
    "df_norm = unif(3,7)\n",
    "eps = cauchy()\n",
    "y_norm = 5 + 2*df_norm + eps\n",
    "y_norm[250:] += 5000\n",
    "df_norm = Add_Column(df_norm)"
   ]
  },
  {
   "cell_type": "code",
   "execution_count": null,
   "metadata": {},
   "outputs": [],
   "source": [
    "sum_mnk, sum_m, sum_mm, sum_r, sum_hbr, sum_lms, sum_rs, sum_ts, sum_mmr, sum_hbrr = MC(df_norm, y_norm)"
   ]
  },
  {
   "cell_type": "code",
   "execution_count": null,
   "metadata": {},
   "outputs": [],
   "source": [
    "sum_mnk, sum_m, sum_r, sum_lms, sum_rs, sum_ts, sum_mm, sum_hbr, sum_mmr, sum_hbrr"
   ]
  },
  {
   "cell_type": "markdown",
   "metadata": {},
   "source": [
    "### $X \\sim CN(0.1;5; 200), \\varepsilon \\sim N(0; 3)$"
   ]
  },
  {
   "cell_type": "code",
   "execution_count": null,
   "metadata": {},
   "outputs": [],
   "source": [
    "df_norm = tukey(5,200)\n",
    "eps = normal(0,3)\n",
    "y_norm = 5 + 2*df_norm + eps\n",
    "y_norm[250:] += 5000\n",
    "df_norm = Add_Column(df_norm)"
   ]
  },
  {
   "cell_type": "code",
   "execution_count": null,
   "metadata": {},
   "outputs": [],
   "source": [
    "sum_mnk, sum_m, sum_mm, sum_r, sum_hbr, sum_lms, sum_rs, sum_ts, sum_mmr, sum_hbrr = MC(df_norm, y_norm)"
   ]
  },
  {
   "cell_type": "code",
   "execution_count": null,
   "metadata": {},
   "outputs": [],
   "source": [
    "sum_mnk, sum_m, sum_r, sum_lms, sum_rs, sum_ts, sum_mm, sum_hbr, sum_mmr, sum_hbrr"
   ]
  },
  {
   "cell_type": "markdown",
   "metadata": {},
   "source": [
    "### $X \\sim CN(0.1;5;200), \\varepsilon \\sim CN(0.1;1;100)$"
   ]
  },
  {
   "cell_type": "code",
   "execution_count": null,
   "metadata": {},
   "outputs": [],
   "source": [
    "df_norm = tukey(5,200)\n",
    "eps = tukey(1,100)\n",
    "y_norm = 5 + 2*df_norm + eps\n",
    "y_norm[250:] += 10000\n",
    "df_norm = Add_Column(df_norm)"
   ]
  },
  {
   "cell_type": "code",
   "execution_count": null,
   "metadata": {},
   "outputs": [],
   "source": [
    "sum_mnk, sum_m, sum_mm, sum_r, sum_hbr, sum_lms, sum_rs, sum_ts, sum_mmr, sum_hbrr = MC(df_norm, y_norm)"
   ]
  },
  {
   "cell_type": "code",
   "execution_count": null,
   "metadata": {},
   "outputs": [],
   "source": [
    "sum_mnk, sum_m, sum_r, sum_lms, sum_rs, sum_ts, sum_mm, sum_hbr, sum_mmr, sum_hbrr"
   ]
  },
  {
   "cell_type": "markdown",
   "metadata": {},
   "source": [
    "### $X \\sim CN(0.1;5;200), \\varepsilon \\sim C(0;1)$"
   ]
  },
  {
   "cell_type": "code",
   "execution_count": null,
   "metadata": {},
   "outputs": [],
   "source": [
    "df_norm = tukey(5,200)\n",
    "eps = cauchy()\n",
    "y_norm = 5 + 2*df_norm + eps\n",
    "y_norm[250:] += 5000\n",
    "df_norm = Add_Column(df_norm)"
   ]
  },
  {
   "cell_type": "code",
   "execution_count": null,
   "metadata": {},
   "outputs": [],
   "source": [
    "sum_mnk, sum_m, sum_mm, sum_r, sum_hbr, sum_lms, sum_rs, sum_ts, sum_mmr, sum_hbrr = MC(df_norm, y_norm)"
   ]
  },
  {
   "cell_type": "code",
   "execution_count": null,
   "metadata": {},
   "outputs": [],
   "source": [
    "sum_mnk, sum_m, sum_r, sum_lms, sum_rs, sum_ts, sum_mm, sum_hbr, sum_mmr, sum_hbrr"
   ]
  },
  {
   "cell_type": "markdown",
   "metadata": {},
   "source": [
    "### $X \\sim C(0;1), \\varepsilon \\sim N(0;3)$"
   ]
  },
  {
   "cell_type": "code",
   "execution_count": null,
   "metadata": {},
   "outputs": [],
   "source": [
    "df_norm = cauchy()\n",
    "eps = normal(0,3)\n",
    "a = np.arange(100)\n",
    "random.shuffle(a)\n",
    "y_norm = 5 + 2*df_norm + eps\n",
    "y_norm[:50] += 10000\n",
    "df_norm = Add_Column(df_norm)"
   ]
  },
  {
   "cell_type": "code",
   "execution_count": null,
   "metadata": {},
   "outputs": [],
   "source": [
    "sum_mnk, sum_m, sum_mm, sum_r, sum_hbr, sum_lms, sum_rs, sum_ts, sum_mmr, sum_hbrr = MC(df_norm, y_norm)"
   ]
  },
  {
   "cell_type": "code",
   "execution_count": null,
   "metadata": {},
   "outputs": [],
   "source": [
    "sum_mnk, sum_m, sum_r, sum_lms, sum_rs, sum_ts, sum_mm, sum_hbr, sum_mmr, sum_hbrr"
   ]
  },
  {
   "cell_type": "markdown",
   "metadata": {},
   "source": [
    "### $X \\sim C(0;1), \\varepsilon \\sim C(0;1)$"
   ]
  },
  {
   "cell_type": "code",
   "execution_count": null,
   "metadata": {},
   "outputs": [],
   "source": [
    "df_norm = cauchy()\n",
    "eps = cauchy()\n",
    "y_norm = 5 + 2*df_norm + eps\n",
    "y_norm[:50] += 5000\n",
    "df_norm = Add_Column(df_norm)"
   ]
  },
  {
   "cell_type": "code",
   "execution_count": null,
   "metadata": {},
   "outputs": [],
   "source": [
    "sum_mnk, sum_m, sum_mm, sum_r, sum_hbr, sum_lms, sum_rs, sum_ts, sum_mmr, sum_hbrr = MC(df_norm, y_norm)"
   ]
  },
  {
   "cell_type": "code",
   "execution_count": null,
   "metadata": {
    "scrolled": false
   },
   "outputs": [],
   "source": [
    "sum_mnk, sum_m, sum_r, sum_lms, sum_rs, sum_ts, sum_mm, sum_hbr, sum_mmr, sum_hbrr"
   ]
  },
  {
   "cell_type": "markdown",
   "metadata": {},
   "source": [
    "# Засорение иксов"
   ]
  },
  {
   "cell_type": "code",
   "execution_count": null,
   "metadata": {},
   "outputs": [],
   "source": [
    "df_norm = normal(10,5)\n",
    "eps = normal(0,3)\n",
    "y_norm = 5 + 2*df_norm + eps\n",
    "df_norm[:50] += np.random.uniform(4995, 5000, size = 50)\n",
    "df_norm = Add_Column(df_norm)"
   ]
  },
  {
   "cell_type": "code",
   "execution_count": null,
   "metadata": {
    "scrolled": true
   },
   "outputs": [],
   "source": [
    "sum_mnk, sum_m, sum_mm, sum_r, sum_hbr, sum_lms, sum_rs, sum_ts, sum_mmr, sum_hbrr = MC(df_norm, y_norm)"
   ]
  },
  {
   "cell_type": "code",
   "execution_count": null,
   "metadata": {
    "scrolled": true
   },
   "outputs": [],
   "source": [
    "sum_mnk, sum_m, sum_mm, sum_r, sum_hbr, sum_lms, sum_rs, sum_ts,sum_mmr, sum_hbrr"
   ]
  },
  {
   "cell_type": "code",
   "execution_count": null,
   "metadata": {
    "scrolled": true
   },
   "outputs": [],
   "source": [
    "sum_mm, sum_hbr, sum_mmr, sum_hbrr"
   ]
  },
  {
   "cell_type": "markdown",
   "metadata": {},
   "source": [
    "# ОТСЮДА"
   ]
  },
  {
   "cell_type": "markdown",
   "metadata": {},
   "source": [
    "### $X \\sim N(10;5), \\varepsilon \\sim CN(0.1;1;100)$"
   ]
  },
  {
   "cell_type": "code",
   "execution_count": null,
   "metadata": {},
   "outputs": [],
   "source": [
    "df_norm = normal(10,5)\n",
    "eps = tukey(1,100)\n",
    "y_norm = 5 + 2*df_norm + eps\n",
    "df_norm[:50] += np.random.uniform(4995, 5000, size = 50)\n",
    "df_norm = Add_Column(df_norm)"
   ]
  },
  {
   "cell_type": "code",
   "execution_count": null,
   "metadata": {
    "scrolled": true
   },
   "outputs": [],
   "source": [
    "sum_mnk, sum_m, sum_mm, sum_r, sum_hbr, sum_lms, sum_rs, sum_ts, sum_mmr, sum_hbrr = MC(df_norm, y_norm)"
   ]
  },
  {
   "cell_type": "code",
   "execution_count": null,
   "metadata": {},
   "outputs": [],
   "source": [
    "sum_mnk, sum_m, sum_r, sum_lms, sum_rs, sum_ts, sum_mm, sum_hbr, sum_mmr, sum_hbrr"
   ]
  },
  {
   "cell_type": "markdown",
   "metadata": {},
   "source": [
    "### $X \\sim N(10;5), \\varepsilon \\sim C(0;1)$"
   ]
  },
  {
   "cell_type": "code",
   "execution_count": null,
   "metadata": {},
   "outputs": [],
   "source": [
    "df_norm = normal(10,5)\n",
    "eps = cauchy()\n",
    "y_norm = 5 + 2*df_norm + eps\n",
    "df_norm[:30] += np.random.uniform(4995, 5000, size = 50)\n",
    "df_norm = Add_Column(df_norm)"
   ]
  },
  {
   "cell_type": "code",
   "execution_count": null,
   "metadata": {},
   "outputs": [],
   "source": [
    "sum_mnk, sum_m, sum_mm, sum_r, sum_hbr, sum_lms, sum_rs, sum_ts, sum_mmr, sum_hbrr = MC(df_norm, y_norm)"
   ]
  },
  {
   "cell_type": "code",
   "execution_count": null,
   "metadata": {},
   "outputs": [],
   "source": [
    "sum_mnk, sum_m, sum_r, sum_lms, sum_rs, sum_ts, sum_mm, sum_hbr, sum_mmr, sum_hbrr"
   ]
  },
  {
   "cell_type": "markdown",
   "metadata": {},
   "source": [
    "### $X \\sim U(3;7), \\varepsilon \\sim N(0;3)$"
   ]
  },
  {
   "cell_type": "code",
   "execution_count": null,
   "metadata": {},
   "outputs": [],
   "source": [
    "df_norm = unif(3,7)\n",
    "eps = normal(0,3)\n",
    "y_norm = 5 + 2*df_norm + eps\n",
    "df_norm[:30] += np.random.uniform(4995, 5000, size = 50)\n",
    "df_norm = Add_Column(df_norm)"
   ]
  },
  {
   "cell_type": "code",
   "execution_count": null,
   "metadata": {
    "scrolled": true
   },
   "outputs": [],
   "source": [
    "sum_mnk, sum_m, sum_mm, sum_r, sum_hbr, sum_lms, sum_rs, sum_ts, sum_mmr, sum_hbrr = MC(df_norm, y_norm)"
   ]
  },
  {
   "cell_type": "code",
   "execution_count": null,
   "metadata": {},
   "outputs": [],
   "source": [
    "sum_mnk, sum_m, sum_r, sum_lms, sum_rs, sum_ts, sum_mm, sum_hbr, sum_mmr, sum_hbrr"
   ]
  },
  {
   "cell_type": "markdown",
   "metadata": {},
   "source": [
    "### $X \\sim U(3;7), \\varepsilon \\sim CN(0.1;1;100)$"
   ]
  },
  {
   "cell_type": "code",
   "execution_count": null,
   "metadata": {},
   "outputs": [],
   "source": [
    "df_norm = unif(3,7)\n",
    "eps = tukey(1,100)\n",
    "y_norm = 5 + 2*df_norm + eps\n",
    "df_norm[:30] += np.random.uniform(4995, 5000, size = 50)\n",
    "df_norm = Add_Column(df_norm)"
   ]
  },
  {
   "cell_type": "code",
   "execution_count": null,
   "metadata": {},
   "outputs": [],
   "source": [
    "sum_mnk, sum_m, sum_mm, sum_r, sum_hbr, sum_lms, sum_rs, sum_ts, sum_mmr, sum_hbrr = MC(df_norm, y_norm)"
   ]
  },
  {
   "cell_type": "code",
   "execution_count": null,
   "metadata": {},
   "outputs": [],
   "source": [
    "sum_mnk, sum_m, sum_r, sum_lms, sum_rs, sum_ts, sum_mm, sum_hbr, sum_mmr, sum_hbrr"
   ]
  },
  {
   "cell_type": "markdown",
   "metadata": {},
   "source": [
    "### $X \\sim U(3;7), \\varepsilon \\sim C(0;1)$"
   ]
  },
  {
   "cell_type": "code",
   "execution_count": null,
   "metadata": {},
   "outputs": [],
   "source": [
    "df_norm = unif(3,7)\n",
    "eps = cauchy()\n",
    "y_norm = 5 + 2*df_norm + eps\n",
    "df_norm[:50] += np.random.uniform(4995, 5000, size = 50)\n",
    "df_norm = Add_Column(df_norm)"
   ]
  },
  {
   "cell_type": "code",
   "execution_count": null,
   "metadata": {},
   "outputs": [],
   "source": [
    "sum_mnk, sum_m, sum_mm, sum_r, sum_hbr, sum_lms, sum_rs, sum_ts, sum_mmr, sum_hbrr = MC(df_norm, y_norm)"
   ]
  },
  {
   "cell_type": "code",
   "execution_count": null,
   "metadata": {},
   "outputs": [],
   "source": [
    "sum_mnk, sum_m, sum_r, sum_lms, sum_rs, sum_ts, sum_mm, sum_hbr, sum_mmr, sum_hbrr"
   ]
  },
  {
   "cell_type": "markdown",
   "metadata": {},
   "source": [
    "### $X \\sim CN(0.1;5; 200), \\varepsilon \\sim N(0; 3)$"
   ]
  },
  {
   "cell_type": "code",
   "execution_count": null,
   "metadata": {},
   "outputs": [],
   "source": [
    "df_norm = tukey(5,200)\n",
    "eps = normal(0,3)\n",
    "y_norm = 5 + 2*df_norm + eps\n",
    "df_norm[:50] += np.random.uniform(4995, 5000, size = 50)\n",
    "df_norm = Add_Column(df_norm)"
   ]
  },
  {
   "cell_type": "code",
   "execution_count": null,
   "metadata": {},
   "outputs": [],
   "source": [
    "sum_mnk, sum_m, sum_mm, sum_r, sum_hbr, sum_lms, sum_rs, sum_ts, sum_mmr, sum_hbrr = MC(df_norm, y_norm)"
   ]
  },
  {
   "cell_type": "code",
   "execution_count": null,
   "metadata": {},
   "outputs": [],
   "source": [
    "sum_mnk, sum_m, sum_r, sum_lms, sum_rs, sum_ts, sum_mm, sum_hbr, sum_mmr, sum_hbrr"
   ]
  },
  {
   "cell_type": "markdown",
   "metadata": {},
   "source": [
    "### $X \\sim CN(0.1;5;200), \\varepsilon \\sim CN(0.1;1;100)$"
   ]
  },
  {
   "cell_type": "code",
   "execution_count": null,
   "metadata": {},
   "outputs": [],
   "source": [
    "df_norm = tukey(5,200)\n",
    "eps = tukey(1,100)\n",
    "y_norm = 5 + 2*df_norm + eps\n",
    "df_norm[:50] += np.random.uniform(4995, 5000, size = 50)\n",
    "df_norm = Add_Column(df_norm)"
   ]
  },
  {
   "cell_type": "code",
   "execution_count": null,
   "metadata": {},
   "outputs": [],
   "source": [
    "sum_mnk, sum_m, sum_mm, sum_r, sum_hbr, sum_lms, sum_rs, sum_ts, sum_mmr, sum_hbrr = MC(df_norm, y_norm)"
   ]
  },
  {
   "cell_type": "code",
   "execution_count": null,
   "metadata": {},
   "outputs": [],
   "source": [
    "sum_mnk, sum_m, sum_r, sum_lms, sum_rs, sum_ts, sum_mm, sum_hbr, sum_mmr, sum_hbrr"
   ]
  },
  {
   "cell_type": "markdown",
   "metadata": {},
   "source": [
    "# Выше моделировалось в ночь!"
   ]
  },
  {
   "cell_type": "markdown",
   "metadata": {},
   "source": [
    "### $X \\sim CN(0.1;5;200), \\varepsilon \\sim C(0;1)$"
   ]
  },
  {
   "cell_type": "code",
   "execution_count": null,
   "metadata": {},
   "outputs": [],
   "source": [
    "df_norm = tukey(5,200)\n",
    "eps = cauchy()\n",
    "y_norm = 5 + 2*df_norm + eps\n",
    "df_norm[:50] += np.random.uniform(4995, 5000, size = 50)\n",
    "df_norm = Add_Column(df_norm)"
   ]
  },
  {
   "cell_type": "code",
   "execution_count": null,
   "metadata": {},
   "outputs": [],
   "source": [
    "sum_mnk, sum_m, sum_mm, sum_r, sum_hbr, sum_lms, sum_rs, sum_ts, sum_mmr, sum_hbrr = MC(df_norm, y_norm)"
   ]
  },
  {
   "cell_type": "code",
   "execution_count": null,
   "metadata": {},
   "outputs": [],
   "source": [
    "sum_mnk, sum_m, sum_r, sum_lms, sum_rs, sum_ts, sum_mm, sum_hbr, sum_mmr, sum_hbrr"
   ]
  }
 ],
 "metadata": {
  "kernelspec": {
   "display_name": "Python 3",
   "language": "python",
   "name": "python3"
  },
  "language_info": {
   "codemirror_mode": {
    "name": "ipython",
    "version": 3
   },
   "file_extension": ".py",
   "mimetype": "text/x-python",
   "name": "python",
   "nbconvert_exporter": "python",
   "pygments_lexer": "ipython3",
   "version": "3.7.1"
  }
 },
 "nbformat": 4,
 "nbformat_minor": 2
}
