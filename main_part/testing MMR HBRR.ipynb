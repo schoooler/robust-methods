{
 "cells": [
  {
   "cell_type": "code",
   "execution_count": 1,
   "metadata": {
    "scrolled": false
   },
   "outputs": [],
   "source": [
    "import numpy as np\n",
    "import statsmodels.api as sm\n",
    "import statsmodels.formula.api as smf\n",
    "import scipy.stats as st\n",
    "import matplotlib.pyplot as plt\n",
    "from sklearn.linear_model import LinearRegression,RANSACRegressor,TheilSenRegressor\n",
    "from statsmodels.robust.robust_linear_model import RLM\n",
    "import statsmodels\n",
    "import pandas as pd\n",
    "from tqdm import tqdm_notebook\n",
    "import random\n",
    "from scipy import optimize\n",
    "from sklearn.covariance import MinCovDet as MCD\n",
    "import time"
   ]
  },
  {
   "cell_type": "code",
   "execution_count": 2,
   "metadata": {},
   "outputs": [],
   "source": [
    "main_size = 300"
   ]
  },
  {
   "cell_type": "code",
   "execution_count": 3,
   "metadata": {},
   "outputs": [],
   "source": [
    "def Add_Column(df, n = main_size):\n",
    "    return np.column_stack([np.ones([df.shape[0], 1], dtype=np.int32), df])"
   ]
  },
  {
   "cell_type": "code",
   "execution_count": 4,
   "metadata": {},
   "outputs": [],
   "source": [
    "ideal_coefs = np.array([5,2])"
   ]
  },
  {
   "cell_type": "code",
   "execution_count": 63,
   "metadata": {},
   "outputs": [],
   "source": [
    "def MC(df, y):\n",
    "    sum_mm = []\n",
    "    sum_hbr = []\n",
    "    sum_mmr = []\n",
    "    sum_hbrr = []\n",
    "    nu = 1\n",
    "    for i in tqdm_notebook(range(30)):   \n",
    "        #МНК\n",
    "        lr = LinearRegression(fit_intercept=False)\n",
    "        lr.fit(df_norm, y_norm)\n",
    "        mnk_coefs = lr.coef_\n",
    "        #ransac\n",
    "        ransac = RANSACRegressor(lr)\n",
    "        ransac.fit(df_norm, y_norm)\n",
    "        ransac_coefs = ransac.estimator_.coef_\n",
    "        #LMS-оценка\n",
    "        lms = LMS(df_norm, y_norm)\n",
    "        ## ММ-оценка\n",
    "        mm_est = MM(df_norm, y_norm, lms)\n",
    "        #HBR-оценка\n",
    "        hbr_beta = optimize.fmin_bfgs(HBR, 0, args = (df_norm, y_norm, lms), disp = 0)\n",
    "        hbr_est = np.array([np.median(y_norm - hbr_beta * df_norm[:,1]),hbr_beta])\n",
    "        #HBRR-оценка\n",
    "        hbrr_beta = optimize.fmin_bfgs(HBR, 0, args = (df_norm, y_norm, ransac_coefs), disp = 0)\n",
    "        hbrr_est = np.array([np.median(y_norm - hbrr_beta * df_norm[:,1]),hbrr_beta])\n",
    "        #MMR-оценка\n",
    "        mmr_est = MM(df_norm, y_norm, ransac_coefs)\n",
    "        #подсчет\n",
    "        \n",
    "        sum_mm.append(np.linalg.norm(ideal_coefs - mm_est))\n",
    "        sum_hbr.append(np.linalg.norm(ideal_coefs - hbr_est))\n",
    "        sum_mmr.append(np.linalg.norm(ideal_coefs - mmr_est))\n",
    "        sum_hbrr.append(np.linalg.norm(ideal_coefs - hbrr_est))\n",
    "        \n",
    "    return sum_mm, sum_mmr, sum_hbr, sum_hbrr"
   ]
  },
  {
   "cell_type": "code",
   "execution_count": 64,
   "metadata": {},
   "outputs": [],
   "source": [
    "def normal(mean, var, sz = main_size):\n",
    "    return st.norm.rvs(loc = mean, scale = np.sqrt(var), size = sz)\n",
    "\n",
    "def unif(a,b):\n",
    "    return st.uniform.rvs(loc = a, scale = b-a, size = main_size)\n",
    "    \n",
    "def tukey(var_1, var_2, bp = 0.1, sz = main_size):\n",
    "    eps = np.array([])\n",
    "    for i in range(sz):\n",
    "        c = st.uniform.rvs()\n",
    "        if c >= bp:\n",
    "            eps = np.append(eps, st.norm.rvs(scale = np.sqrt(var_1)))\n",
    "        else:\n",
    "            eps = np.append(eps, st.norm.rvs(scale = np.sqrt(var_2)))\n",
    "    return eps\n",
    "            \n",
    "def cauchy(sz = main_size):\n",
    "    return st.t.rvs(df = 1, size = sz)"
   ]
  },
  {
   "cell_type": "code",
   "execution_count": 65,
   "metadata": {},
   "outputs": [],
   "source": [
    "def LMS(df, y):\n",
    "    h = int(df.shape[0]/2 + 1)\n",
    "    Q = 1000000000\n",
    "    beta = np.array([1,1],dtype=float)\n",
    "    for i in range(df.shape[0]):\n",
    "        for j in range(i):\n",
    "            if df[:,1][i] != df[:,1][j]:\n",
    "                beta[1] = (y[i]-y[j])/(df[:,1][i] - df[:,1][j])\n",
    "                beta[0] = df[:,1][i]*y[j] - df[:,1][j]*y[i]\n",
    "                med = np.median(np.abs(y - np.sum(beta*df, axis=1)))\n",
    "                if med < Q:\n",
    "                    Q = med.copy()\n",
    "                    ans = beta.copy()\n",
    "    return ans"
   ]
  },
  {
   "cell_type": "code",
   "execution_count": 66,
   "metadata": {},
   "outputs": [],
   "source": [
    "def MM(df, y, blms):\n",
    "    n = df.shape[0]\n",
    "    s = y - np.sum(blms * df, axis = 1)\n",
    "    res_itog = np.abs(np.median(s) - s)\n",
    "    MADN = np.median(np.abs(res_itog)) / 0.675\n",
    "    const1 = 10\n",
    "    const2 = 4.68\n",
    "    var = s/(const1*MADN)\n",
    "    w = np.minimum(3 - 3*np.power(var,2) + np.power(var,4), 1/np.power(var,2))\n",
    "    sigma_1 = np.dot(w,np.power(s/const1,2))\n",
    "    sigma_1 = np.sqrt(sigma_1 * 2/ df.shape[0])\n",
    "    eps = 0.0001\n",
    "    while(np.abs(sigma_1/MADN - 1) > eps):\n",
    "        MADN = sigma_1\n",
    "        sigma_1 = 0\n",
    "        w = np.minimum(3 - 3*np.power(var,2) + np.power(var,4), 1/np.power(var,2))\n",
    "        sigma_1 = np.dot(w,np.power(s/const1,2))\n",
    "        sigma_1 = np.sqrt(sigma_1 * 2 / n)\n",
    "    var2 = s/(const2*MADN)\n",
    "    w = np.minimum(3 - 3*np.power(var2,2) + np.power(var2,4), 1/np.power(var2,2))\n",
    "    W = np.diag(w)\n",
    "    beta = blms\n",
    "    beta_1 = np.dot(np.dot(np.dot(np.linalg.inv(np.dot(np.dot(df.T,W), df)), df.T), W), y)\n",
    "    eps = 0.001\n",
    "    while np.linalg.norm(beta_1-beta)/np.linalg.norm(beta) > eps:\n",
    "        s = y - np.sum(beta_1 * df, axis = 1)\n",
    "        var2 = s/(const2*sigma_1)\n",
    "        w = np.minimum(3 - 3*np.power(var2,2) + np.power(var2,4), 1/np.power(var2,2))\n",
    "        W = np.diag(w)\n",
    "        beta = beta_1\n",
    "        beta_1 = np.dot(np.dot(np.dot(np.linalg.inv(np.dot(np.dot(df.T,W), df)), df.T), W), y)\n",
    "    return beta_1"
   ]
  },
  {
   "cell_type": "code",
   "execution_count": 67,
   "metadata": {},
   "outputs": [],
   "source": [
    "def R(x, df, y):\n",
    "    s = 0\n",
    "    array = y - x*df\n",
    "    temp = array.argsort()\n",
    "    ranks = np.empty_like(temp)\n",
    "    ranks[temp] = np.arange(len(array))\n",
    "    return np.dot(array, ranks/(df.shape[0]) - 0.5)"
   ]
  },
  {
   "cell_type": "code",
   "execution_count": 68,
   "metadata": {},
   "outputs": [],
   "source": [
    "def HBR(x, df, y, lts):\n",
    "    resid = y - np.sum(lts * df,axis = 1)\n",
    "    MADN = 1.483*np.median(np.abs(resid - np.median(resid)))\n",
    "    mcd = MCD()\n",
    "    mcd.fit(df[:,1].reshape(-1,1))\n",
    "    mahal =  mcd.mahalanobis(df[:,1].reshape(-1,1))\n",
    "    b, c = 4, 4 \n",
    "    resid = np.abs(resid / MADN)\n",
    "    resid_new = y - x * df[:,1]\n",
    "    resid_dif = np.abs(resid_new - resid_new.reshape(-1,1))\n",
    "    resid_dif = np.tril(resid_dif, -1)\n",
    "    mahal = b / mahal\n",
    "    mahal[mahal > 1] = 1\n",
    "    mahal = mahal / resid\n",
    "    mahal = mahal.reshape(-1, 1) * mahal\n",
    "    mahal = np.tril(mahal, -1)\n",
    "    mahal = c * mahal\n",
    "    mahal[mahal > 1] = 1\n",
    "    ans = np.sum(mahal * resid_dif)\n",
    "    return ans"
   ]
  },
  {
   "cell_type": "code",
   "execution_count": 70,
   "metadata": {
    "scrolled": false
   },
   "outputs": [
    {
     "data": {
      "application/vnd.jupyter.widget-view+json": {
       "model_id": "63e7f24c47f047cc80f8d85c20cb3247",
       "version_major": 2,
       "version_minor": 0
      },
      "text/plain": [
       "HBox(children=(IntProgress(value=0, max=30), HTML(value='')))"
      ]
     },
     "metadata": {},
     "output_type": "display_data"
    },
    {
     "name": "stdout",
     "output_type": "stream",
     "text": [
      "percent = 1 %, sum_mm = 0.80, sum_mmr = 0.81, sum_hbr = 0.01, sum_hbrr = 0.03\n"
     ]
    },
    {
     "data": {
      "application/vnd.jupyter.widget-view+json": {
       "model_id": "5bc2b8c404e447d2b4f7963d01681c96",
       "version_major": 2,
       "version_minor": 0
      },
      "text/plain": [
       "HBox(children=(IntProgress(value=0, max=30), HTML(value='')))"
      ]
     },
     "metadata": {},
     "output_type": "display_data"
    },
    {
     "name": "stdout",
     "output_type": "stream",
     "text": [
      "percent = 5 %, sum_mm = 1.52, sum_mmr = 1.51, sum_hbr = 1.41, sum_hbrr = 1.41\n"
     ]
    },
    {
     "data": {
      "application/vnd.jupyter.widget-view+json": {
       "model_id": "42e4b57d57544e74a326dfa1e137e228",
       "version_major": 2,
       "version_minor": 0
      },
      "text/plain": [
       "HBox(children=(IntProgress(value=0, max=30), HTML(value='')))"
      ]
     },
     "metadata": {},
     "output_type": "display_data"
    },
    {
     "name": "stdout",
     "output_type": "stream",
     "text": [
      "percent = 20 %, sum_mm = 1.29, sum_mmr = 1.29, sum_hbr = 1.89, sum_hbrr = 1.84\n"
     ]
    },
    {
     "data": {
      "application/vnd.jupyter.widget-view+json": {
       "model_id": "8b0884e1c0614bef85d0490c4b7827b8",
       "version_major": 2,
       "version_minor": 0
      },
      "text/plain": [
       "HBox(children=(IntProgress(value=0, max=30), HTML(value='')))"
      ]
     },
     "metadata": {},
     "output_type": "display_data"
    },
    {
     "name": "stdout",
     "output_type": "stream",
     "text": [
      "percent = 30 %, sum_mm = 0.67, sum_mmr = 0.67, sum_hbr = 1.41, sum_hbrr = 1.40\n"
     ]
    },
    {
     "data": {
      "application/vnd.jupyter.widget-view+json": {
       "model_id": "21fd263c9dc446a88d8f1b75a44dbbdb",
       "version_major": 2,
       "version_minor": 0
      },
      "text/plain": [
       "HBox(children=(IntProgress(value=0, max=30), HTML(value='')))"
      ]
     },
     "metadata": {},
     "output_type": "display_data"
    },
    {
     "name": "stdout",
     "output_type": "stream",
     "text": [
      "percent = 40 %, sum_mm = 0.50, sum_mmr = 0.50, sum_hbr = 0.54, sum_hbrr = 0.39\n"
     ]
    }
   ],
   "source": [
    "for perc in [1, 5, 20, 30, 40]:\n",
    "    percent = int(perc * main_size / 100)\n",
    "    df_norm = normal(20, 5)\n",
    "    eps = normal(0, 3)\n",
    "    y_norm = 5 + 2*df_norm + eps\n",
    "    y_norm[:percent] += 500\n",
    "    df_norm = Add_Column(df_norm)\n",
    "    sum_mm, sum_mmr, sum_hbr, sum_hbrr = MC(df_norm, y_norm)\n",
    "    print('percent = {} %, sum_mm = {:0.2f}, sum_mmr = {:0.2f}, sum_hbr = {:0.2f}, sum_hbrr = {:0.2f}'.format(\n",
    "                                               perc, \n",
    "                                               np.mean(sum_mm), \n",
    "                                               np.mean(sum_mmr), \n",
    "                                               np.mean(sum_hbr), \n",
    "                                               np.mean(sum_hbrr)))"
   ]
  }
 ],
 "metadata": {
  "kernelspec": {
   "display_name": "Python 3",
   "language": "python",
   "name": "python3"
  },
  "language_info": {
   "codemirror_mode": {
    "name": "ipython",
    "version": 3
   },
   "file_extension": ".py",
   "mimetype": "text/x-python",
   "name": "python",
   "nbconvert_exporter": "python",
   "pygments_lexer": "ipython3",
   "version": "3.7.1"
  }
 },
 "nbformat": 4,
 "nbformat_minor": 2
}
